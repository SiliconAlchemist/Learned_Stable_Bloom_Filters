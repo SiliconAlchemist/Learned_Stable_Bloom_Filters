{
  "nbformat": 4,
  "nbformat_minor": 0,
  "metadata": {
    "colab": {
      "name": "CLDS Project - Training Models [Malicious URLS].ipynb",
      "provenance": [],
      "collapsed_sections": [],
      "include_colab_link": true
    },
    "kernelspec": {
      "name": "python3",
      "display_name": "Python 3"
    },
    "language_info": {
      "name": "python"
    }
  },
  "cells": [
    {
      "cell_type": "markdown",
      "metadata": {
        "id": "view-in-github",
        "colab_type": "text"
      },
      "source": [
        "<a href=\"https://colab.research.google.com/github/SiliconAlchemist/Learned_Stable_Bloom_Filters/blob/main/CLDS_Project_Training_Models_%5BMalicious_URLS%5D.ipynb\" target=\"_parent\"><img src=\"https://colab.research.google.com/assets/colab-badge.svg\" alt=\"Open In Colab\"/></a>"
      ]
    },
    {
      "cell_type": "code",
      "source": [
        "!pip install tldextract\n",
        "!pip install mmh3"
      ],
      "metadata": {
        "colab": {
          "base_uri": "https://localhost:8080/"
        },
        "id": "_n3PPKvZtA5g",
        "outputId": "06a1cf41-0a71-40a8-d577-2156d91245d4"
      },
      "execution_count": 1,
      "outputs": [
        {
          "output_type": "stream",
          "name": "stdout",
          "text": [
            "Collecting tldextract\n",
            "  Downloading tldextract-3.2.1-py3-none-any.whl (87 kB)\n",
            "\u001b[?25l\r\u001b[K     |███▊                            | 10 kB 15.1 MB/s eta 0:00:01\r\u001b[K     |███████▌                        | 20 kB 18.8 MB/s eta 0:00:01\r\u001b[K     |███████████▏                    | 30 kB 23.3 MB/s eta 0:00:01\r\u001b[K     |███████████████                 | 40 kB 26.3 MB/s eta 0:00:01\r\u001b[K     |██████████████████▋             | 51 kB 20.1 MB/s eta 0:00:01\r\u001b[K     |██████████████████████▍         | 61 kB 22.1 MB/s eta 0:00:01\r\u001b[K     |██████████████████████████▏     | 71 kB 23.2 MB/s eta 0:00:01\r\u001b[K     |█████████████████████████████▉  | 81 kB 24.4 MB/s eta 0:00:01\r\u001b[K     |████████████████████████████████| 87 kB 5.6 MB/s \n",
            "\u001b[?25hRequirement already satisfied: idna in /usr/local/lib/python3.7/dist-packages (from tldextract) (2.10)\n",
            "Requirement already satisfied: filelock>=3.0.8 in /usr/local/lib/python3.7/dist-packages (from tldextract) (3.6.0)\n",
            "Collecting requests-file>=1.4\n",
            "  Downloading requests_file-1.5.1-py2.py3-none-any.whl (3.7 kB)\n",
            "Requirement already satisfied: requests>=2.1.0 in /usr/local/lib/python3.7/dist-packages (from tldextract) (2.23.0)\n",
            "Requirement already satisfied: urllib3!=1.25.0,!=1.25.1,<1.26,>=1.21.1 in /usr/local/lib/python3.7/dist-packages (from requests>=2.1.0->tldextract) (1.24.3)\n",
            "Requirement already satisfied: certifi>=2017.4.17 in /usr/local/lib/python3.7/dist-packages (from requests>=2.1.0->tldextract) (2021.10.8)\n",
            "Requirement already satisfied: chardet<4,>=3.0.2 in /usr/local/lib/python3.7/dist-packages (from requests>=2.1.0->tldextract) (3.0.4)\n",
            "Requirement already satisfied: six in /usr/local/lib/python3.7/dist-packages (from requests-file>=1.4->tldextract) (1.15.0)\n",
            "Installing collected packages: requests-file, tldextract\n",
            "Successfully installed requests-file-1.5.1 tldextract-3.2.1\n",
            "Collecting mmh3\n",
            "  Downloading mmh3-3.0.0-cp37-cp37m-manylinux2010_x86_64.whl (50 kB)\n",
            "\u001b[K     |████████████████████████████████| 50 kB 5.4 MB/s \n",
            "\u001b[?25hInstalling collected packages: mmh3\n",
            "Successfully installed mmh3-3.0.0\n"
          ]
        }
      ]
    },
    {
      "cell_type": "code",
      "execution_count": 2,
      "metadata": {
        "id": "k92dRjYY593Z"
      },
      "outputs": [],
      "source": [
        "import torch\n",
        "import torch.nn as nn\n",
        "import torch.nn.functional as F\n",
        "import numpy as np\n",
        "import os\n",
        "import time\n",
        "from collections import Counter\n",
        "import pandas as pd\n",
        "import matplotlib.pyplot as plt\n",
        "from urllib.parse import urlparse\n",
        "import tldextract\n",
        "from ipaddress import ip_address\n",
        "import seaborn as sns\n",
        "import random"
      ]
    },
    {
      "cell_type": "code",
      "source": [
        "from google.colab import drive\n",
        "drive.mount('/content/drive')"
      ],
      "metadata": {
        "colab": {
          "base_uri": "https://localhost:8080/"
        },
        "id": "sxU_GagR6TAL",
        "outputId": "0f24fc1a-ec27-46a6-83c2-a1c4bc071b07"
      },
      "execution_count": 3,
      "outputs": [
        {
          "output_type": "stream",
          "name": "stdout",
          "text": [
            "Mounted at /content/drive\n"
          ]
        }
      ]
    },
    {
      "cell_type": "code",
      "source": [
        "! cd /content/drive/MyDrive/CLDS_Shortcut/CLDS/Dataset/URL && ls\n",
        "#! cd /content/drive/MyDrive/Sem\\ 8/CLDS/Dataset/URL && ls"
      ],
      "metadata": {
        "colab": {
          "base_uri": "https://localhost:8080/"
        },
        "id": "Mn8v6qJu7wa8",
        "outputId": "f7fdd0c5-3bfd-4d76-c74c-614f30ccbd6f"
      },
      "execution_count": 4,
      "outputs": [
        {
          "output_type": "stream",
          "name": "stdout",
          "text": [
            "Legitimate.txt\tPhishing.txt\n"
          ]
        }
      ]
    },
    {
      "cell_type": "code",
      "source": [
        "root = \"/content/drive/MyDrive/CLDS_Shortcut/CLDS/Dataset/URL/\"\n",
        "#root = \"drive/MyDrive/Sem 8/CLDS/Dataset/URL/\"\n",
        "phishing_url = \"Phishing.txt\"\n",
        "legitimate_url = \"Legitimate.txt\""
      ],
      "metadata": {
        "id": "aYN2ciBn8bE0"
      },
      "execution_count": 11,
      "outputs": []
    },
    {
      "cell_type": "code",
      "source": [
        "with open(root+phishing_url, encoding=\"ISO-8859-1\") as f:\n",
        "    phishing_urls = f.readlines()\n",
        "with open(root+legitimate_url, encoding=\"ISO-8859-1\") as f:\n",
        "    legitimate_urls = f.readlines()"
      ],
      "metadata": {
        "id": "wCaUuvO278Rz"
      },
      "execution_count": 12,
      "outputs": []
    },
    {
      "cell_type": "code",
      "source": [
        "len(phishing_urls), len(legitimate_urls)"
      ],
      "metadata": {
        "colab": {
          "base_uri": "https://localhost:8080/"
        },
        "id": "LXSGeEub9Mc_",
        "outputId": "6c04b6f6-b82e-41ba-9308-af7e0b59db64"
      },
      "execution_count": 13,
      "outputs": [
        {
          "output_type": "execute_result",
          "data": {
            "text/plain": [
              "(14998, 14999)"
            ]
          },
          "metadata": {},
          "execution_count": 13
        }
      ]
    },
    {
      "cell_type": "code",
      "source": [
        "legitimate_URLs = [l.split('www.')[-1] for l in legitimate_urls]\n",
        "phishing_URLs = [p.split('www.')[-1] for p in phishing_urls]"
      ],
      "metadata": {
        "id": "poAAvEF2_X7K"
      },
      "execution_count": 14,
      "outputs": []
    },
    {
      "cell_type": "markdown",
      "source": [
        "### Feature Selection\n",
        "1. Length of URL\n",
        "2. No. of Dots\n",
        "3. Presence of Hyphen\n",
        "4. Presence of Double Slashes\n",
        "5. Presence of @ Symbol\n",
        "6. Presence of IP Address"
      ],
      "metadata": {
        "id": "DIkR-ZvBmAFO"
      }
    },
    {
      "cell_type": "code",
      "source": [
        "phishing_urls[0], urlparse(phishing_urls[0]), tldextract.extract(phishing_urls[0])"
      ],
      "metadata": {
        "colab": {
          "base_uri": "https://localhost:8080/"
        },
        "id": "6pVp_nAx_kfQ",
        "outputId": "03ed3270-4677-4891-8437-aa19bd57fd35"
      },
      "execution_count": 15,
      "outputs": [
        {
          "output_type": "execute_result",
          "data": {
            "text/plain": [
              "('http://sydneyin.com.au/wp-content/themes/s/index.php?id=usaaonline\\n',\n",
              " ParseResult(scheme='http', netloc='sydneyin.com.au', path='/wp-content/themes/s/index.php', params='', query='id=usaaonline', fragment=''),\n",
              " ExtractResult(subdomain='', domain='sydneyin', suffix='com.au'))"
            ]
          },
          "metadata": {},
          "execution_count": 15
        }
      ]
    },
    {
      "cell_type": "code",
      "source": [
        "length_url = []\n",
        "labels = []\n",
        "num_dots = []\n",
        "num_hyphen = []\n",
        "num_double_slashes = []\n",
        "num_at = []\n",
        "bool_ip_addr = []\n",
        "url_strs=[]\n",
        "\n",
        "def generate_features(url, label):\n",
        "  length_url.append(len(url))\n",
        "  num_dots.append(url.count('.'))\n",
        "  num_hyphen.append(url.count('-'))\n",
        "  num_double_slashes.append(url.count('//'))\n",
        "  num_at.append(url.count('@'))\n",
        "  url_strs.append(url)\n",
        "  \n",
        "  try:\n",
        "    tldextract.extract(url).domain\n",
        "    bool_ip_addr.append(1)\n",
        "  except:\n",
        "    bool_ip_addr.append(0)\n",
        "\n",
        "  labels.append(label)"
      ],
      "metadata": {
        "id": "z4bI8xJ3_2fU"
      },
      "execution_count": 16,
      "outputs": []
    },
    {
      "cell_type": "code",
      "source": [
        "for url in phishing_urls:\n",
        "  generate_features(url, 1)\n",
        "\n",
        "for url in legitimate_urls:\n",
        "  generate_features(url, 0)"
      ],
      "metadata": {
        "id": "_REudq9Huh84"
      },
      "execution_count": 17,
      "outputs": []
    },
    {
      "cell_type": "code",
      "source": [
        "len(length_url), len(labels), len(num_dots), len(num_hyphen), len(num_double_slashes), len(num_at), len(bool_ip_addr), len(url_strs)"
      ],
      "metadata": {
        "colab": {
          "base_uri": "https://localhost:8080/"
        },
        "id": "P5ZEhMqX2DCN",
        "outputId": "6418c8bc-ab75-4934-f472-2226a93878dd"
      },
      "execution_count": 18,
      "outputs": [
        {
          "output_type": "execute_result",
          "data": {
            "text/plain": [
              "(29997, 29997, 29997, 29997, 29997, 29997, 29997, 29997)"
            ]
          },
          "metadata": {},
          "execution_count": 18
        }
      ]
    },
    {
      "cell_type": "code",
      "source": [
        "final_data = np.array(np.vstack((url_strs,length_url, num_dots, num_hyphen, num_double_slashes, num_at, bool_ip_addr, labels))).T"
      ],
      "metadata": {
        "id": "CqxjOGNL6ol2"
      },
      "execution_count": 19,
      "outputs": []
    },
    {
      "cell_type": "code",
      "source": [
        "random.shuffle(final_data)"
      ],
      "metadata": {
        "id": "7WQRgJOW63f0"
      },
      "execution_count": 20,
      "outputs": []
    },
    {
      "cell_type": "code",
      "source": [
        "final_data[:,7]"
      ],
      "metadata": {
        "colab": {
          "base_uri": "https://localhost:8080/"
        },
        "id": "4qDcbdUe7reQ",
        "outputId": "d21df3b7-14fb-478b-88ad-59fc4794c8d5"
      },
      "execution_count": 21,
      "outputs": [
        {
          "output_type": "execute_result",
          "data": {
            "text/plain": [
              "array(['1', '1', '1', ..., '0', '0', '1'], dtype='<U953')"
            ]
          },
          "metadata": {},
          "execution_count": 21
        }
      ]
    },
    {
      "cell_type": "code",
      "source": [
        "from sklearn.metrics import confusion_matrix\n",
        "from sklearn import svm\n",
        "from sklearn.naive_bayes import GaussianNB\n",
        "from sklearn.linear_model import LogisticRegression\n",
        "from sklearn.model_selection import train_test_split"
      ],
      "metadata": {
        "id": "oLbqOR6f8-hd"
      },
      "execution_count": 22,
      "outputs": []
    },
    {
      "cell_type": "code",
      "source": [
        "x_train_complete, x_test_complete, y_train, y_test = train_test_split(final_data[:,:7], final_data[:,7], test_size = 0.95, random_state = 42)"
      ],
      "metadata": {
        "id": "s3toVDC-9QnQ"
      },
      "execution_count": 23,
      "outputs": []
    },
    {
      "cell_type": "code",
      "source": [
        "x_train_complete[:,1:7]"
      ],
      "metadata": {
        "colab": {
          "base_uri": "https://localhost:8080/"
        },
        "id": "fKzsf0yf2ilD",
        "outputId": "c022347c-4a72-4488-b361-8e5b946e2ad9"
      },
      "execution_count": 24,
      "outputs": [
        {
          "output_type": "execute_result",
          "data": {
            "text/plain": [
              "array([['53', '2', '0', '1', '0', '1'],\n",
              "       ['11', '1', '0', '0', '0', '1'],\n",
              "       ['64', '1', '0', '1', '0', '1'],\n",
              "       ...,\n",
              "       ['89', '2', '0', '1', '0', '1'],\n",
              "       ['58', '2', '1', '1', '0', '1'],\n",
              "       ['13', '1', '0', '0', '0', '1']], dtype='<U953')"
            ]
          },
          "metadata": {},
          "execution_count": 24
        }
      ]
    },
    {
      "cell_type": "code",
      "source": [
        "x_train_url_strs=x_train_complete[:,0]\n",
        "x_train=x_train_complete[:,1:7].astype('float')\n",
        "y_train=y_train.astype('float')\n",
        "x_test_url_strs=x_test_complete[:,0]\n",
        "x_test=x_test_complete[:,1:7].astype('float')\n",
        "y_test=y_test.astype('float')"
      ],
      "metadata": {
        "id": "RksC2rF32IxL"
      },
      "execution_count": 25,
      "outputs": []
    },
    {
      "cell_type": "code",
      "source": [
        "np.unique(y_train,return_counts=True), np.unique(y_test,return_counts=True)"
      ],
      "metadata": {
        "colab": {
          "base_uri": "https://localhost:8080/"
        },
        "id": "7q1D2N4R_4JH",
        "outputId": "f44e6715-14a7-48b3-ecf6-879791dda1fe"
      },
      "execution_count": 26,
      "outputs": [
        {
          "output_type": "execute_result",
          "data": {
            "text/plain": [
              "((array([0., 1.]), array([ 260, 1239])),\n",
              " (array([0., 1.]), array([ 4375, 24123])))"
            ]
          },
          "metadata": {},
          "execution_count": 26
        }
      ]
    },
    {
      "cell_type": "code",
      "source": [
        "len(x_train), len(x_test), len(y_train), len(y_test)"
      ],
      "metadata": {
        "colab": {
          "base_uri": "https://localhost:8080/"
        },
        "id": "oDNlwv-7-DwB",
        "outputId": "402dc694-e8e2-4f20-b7ab-973374550cbd"
      },
      "execution_count": 27,
      "outputs": [
        {
          "output_type": "execute_result",
          "data": {
            "text/plain": [
              "(1499, 28498, 1499, 28498)"
            ]
          },
          "metadata": {},
          "execution_count": 27
        }
      ]
    },
    {
      "cell_type": "code",
      "source": [
        "models = { \"Gaussian Naive Bayes\":GaussianNB(),\n",
        "         \"Logistic Regression\":LogisticRegression(),\n",
        "          \"Support Vector Machines\": svm.SVC()   \n",
        "}"
      ],
      "metadata": {
        "id": "zenx7zrf-QB-"
      },
      "execution_count": 28,
      "outputs": []
    },
    {
      "cell_type": "code",
      "source": [
        "results = {}\n",
        "for algo in models:\n",
        "    clf = models[algo]\n",
        "    clf.fit(x_train,y_train)\n",
        "    score = clf.score(x_test,y_test)\n",
        "    print (\"%s : %s \" %(algo, score))\n",
        "    results[algo] = score"
      ],
      "metadata": {
        "colab": {
          "base_uri": "https://localhost:8080/"
        },
        "id": "sOy7SZ8Z-32n",
        "outputId": "124a00cd-2a21-4a6a-ba19-764400e68970"
      },
      "execution_count": 29,
      "outputs": [
        {
          "output_type": "stream",
          "name": "stdout",
          "text": [
            "Gaussian Naive Bayes : 0.9992981963646572 \n",
            "Logistic Regression : 0.9992981963646572 \n",
            "Support Vector Machines : 0.9918941680117903 \n"
          ]
        }
      ]
    },
    {
      "cell_type": "code",
      "source": [
        "results = {}\n",
        "for algo in models:\n",
        "  clf = models[algo]\n",
        "  res = clf.predict(x_test)\n",
        "  mt = confusion_matrix(y_test, res)\n",
        "  print(algo)\n",
        "  print(\"False positive rate : %f %%\" % ((mt[0][1] / float(sum(mt[0])))*100))\n",
        "  print('False negative rate : %f %%' % ( (mt[1][0] / float(sum(mt[1]))*100)))"
      ],
      "metadata": {
        "colab": {
          "base_uri": "https://localhost:8080/"
        },
        "id": "ryzIGvwz-_GW",
        "outputId": "1b8bd62e-c034-40cb-fc27-8c7ebca59284"
      },
      "execution_count": 30,
      "outputs": [
        {
          "output_type": "stream",
          "name": "stdout",
          "text": [
            "Gaussian Naive Bayes\n",
            "False positive rate : 0.457143 %\n",
            "False negative rate : 0.000000 %\n",
            "Logistic Regression\n",
            "False positive rate : 0.457143 %\n",
            "False negative rate : 0.000000 %\n",
            "Support Vector Machines\n",
            "False positive rate : 1.600000 %\n",
            "False negative rate : 0.667413 %\n"
          ]
        }
      ]
    },
    {
      "cell_type": "code",
      "source": [
        "import mmh3\n",
        "from random import sample\n",
        "\n",
        "\n",
        "class stable_bloom_filter(object):\n",
        "    \n",
        "    def __init__(self,m,Mx,K):\n",
        "        '''\n",
        "        m: Number of Cells in the bloom filter\n",
        "        Mx: Maximum value a cell can hold\n",
        "        K: Number of Hash Functions\n",
        "        \n",
        "        Initialises a stable bloom filter\n",
        "        ''' \n",
        "        self.m=m\n",
        "        self.Mx=Mx\n",
        "        self.K=K\n",
        "        \n",
        "        #calculating other parameters.\n",
        "        self.P=256\n",
        "        self.filter=[0]*self.m\n",
        "        \n",
        "    def is_duplicate(self,item):\n",
        "        '''\n",
        "        item: input item\n",
        "        \n",
        "        returns if the input item is already contained within the filter\n",
        "        '''\n",
        "        flag=True\n",
        "        hashes=self.get_hashes(item)\n",
        "        for i in range(self.K):\n",
        "            if(self.filter[hashes[i]]==0):\n",
        "                flag=False\n",
        "\n",
        "        self.remove_random_elements()\n",
        "        self.add_element(hashes)\n",
        "        return flag\n",
        "    \n",
        "    def add_element(self,hashes):\n",
        "        '''\n",
        "        hashes: keys by K hash functions\n",
        "        Adds an element to the filter by setting all the hash cells to max\n",
        "        '''\n",
        "        for i in range(self.K):\n",
        "            self.filter[hashes[i]]=self.Mx\n",
        "        \n",
        "    \n",
        "    def remove_random_elements(self):\n",
        "        '''\n",
        "        Decrement random P cells by 1.\n",
        "        '''\n",
        "        cell_ind=[i for i in range(self.m)]\n",
        "        rem_ind=sample(cell_ind,self.P)\n",
        "        for i in rem_ind:\n",
        "            self.filter[i]=max(0,self.filter[i]-1)\n",
        "    \n",
        "    def get_hashes(self,item):\n",
        "        '''\n",
        "        item: input item\n",
        "        \n",
        "        returns K hashes derived from k independent hash functions\n",
        "        '''\n",
        "        hashes = []\n",
        "        \n",
        "        for i in range(self.K):\n",
        "            hash_val = mmh3.hash(item, i) % self.m\n",
        "            hashes.append(hash_val)\n",
        "        \n",
        "        return hashes"
      ],
      "metadata": {
        "id": "82O_y0ncttkg"
      },
      "execution_count": 31,
      "outputs": []
    },
    {
      "cell_type": "code",
      "source": [
        "y_train"
      ],
      "metadata": {
        "colab": {
          "base_uri": "https://localhost:8080/"
        },
        "id": "kvicNlQn6cqT",
        "outputId": "517ec7c6-84af-458e-ab20-a27ef38dc62a"
      },
      "execution_count": 32,
      "outputs": [
        {
          "output_type": "execute_result",
          "data": {
            "text/plain": [
              "array([1., 0., 1., ..., 1., 1., 0.])"
            ]
          },
          "metadata": {},
          "execution_count": 32
        }
      ]
    },
    {
      "cell_type": "code",
      "source": [
        ""
      ],
      "metadata": {
        "id": "pFxW3JrbxOcO"
      },
      "execution_count": 32,
      "outputs": []
    },
    {
      "cell_type": "markdown",
      "source": [
        "## FNR RATE - Malicious"
      ],
      "metadata": {
        "id": "448DVC-IxQBK"
      }
    },
    {
      "cell_type": "code",
      "source": [
        "malicious_ind_train=np.where(y_train==1.0)\n",
        "insrt_train=x_train_url_strs[malicious_ind_train]\n",
        "y_train_workload = y_train[malicious_ind_train]\n",
        "x_train_workload = x_train[malicious_ind_train]\n",
        "malicious_ind_test=np.where(y_test==1.0)\n",
        "insrt_test=x_test_url_strs[malicious_ind_test]\n",
        "y_test_workload = y_test[malicious_ind_test]\n",
        "x_test_workload = x_test[malicious_ind_test]\n",
        "len(insrt_train), len(insrt_test)"
      ],
      "metadata": {
        "colab": {
          "base_uri": "https://localhost:8080/"
        },
        "id": "KU9koVq4yLPr",
        "outputId": "f1bc5c88-8114-4a73-ed48-f4b673435e47"
      },
      "execution_count": 33,
      "outputs": [
        {
          "output_type": "execute_result",
          "data": {
            "text/plain": [
              "(1239, 24123)"
            ]
          },
          "metadata": {},
          "execution_count": 33
        }
      ]
    },
    {
      "cell_type": "code",
      "source": [
        "fn_rates_models = []\n",
        "for algo in models:\n",
        "  fn=0\n",
        "  fn_rate=[]\n",
        "  sbf=stable_bloom_filter(1024, 5, 1)\n",
        "  for el in insrt_train:\n",
        "    sbf.is_duplicate(el)\n",
        "  for ind in range(len(x_test_workload)):\n",
        "    clf = models[algo]\n",
        "    res = clf.predict(x_test_workload[ind].reshape(1,6))\n",
        "    \n",
        "    if res==1:\n",
        "      res2=True\n",
        "    else:\n",
        "      res2=sbf.is_duplicate(x_test_url_strs[ind])\n",
        "\n",
        "    if (not res2 and y_test_workload[ind]==1.0):\n",
        "      fn+=1\n",
        "    # print(fn)\n",
        "    fn_rate.append(fn/(ind+1))\n",
        "  fn_rates_models.append(fn_rate)"
      ],
      "metadata": {
        "id": "RP5VQNYD5w6q"
      },
      "execution_count": 34,
      "outputs": []
    },
    {
      "cell_type": "code",
      "source": [
        "import matplotlib.pyplot as plt\n",
        "plt.figure(figsize=(10,5))\n",
        "plt.title(\"FNR Rate for a Synthetic WorkLoad [Malicious URLS] across Various Classifiers\")\n",
        "plt.plot(fn_rates_models[0])\n",
        "plt.plot(fn_rates_models[1])\n",
        "plt.plot(fn_rates_models[2])\n",
        "\n",
        "plt.legend(models.keys())\n",
        "plt.xlabel(\"Insertions\")\n",
        "plt.ylabel(\"FNR Rate\")\n",
        "plt.show()  "
      ],
      "metadata": {
        "colab": {
          "base_uri": "https://localhost:8080/",
          "height": 350
        },
        "id": "cMjk4-wI-KpA",
        "outputId": "8939dbf5-4531-4d01-cc21-3d05b587b32c"
      },
      "execution_count": 35,
      "outputs": [
        {
          "output_type": "display_data",
          "data": {
            "text/plain": [
              "<Figure size 720x360 with 1 Axes>"
            ],
            "image/png": "[encoded data removed]"
          },
          "metadata": {
            "needs_background": "light"
          }
        }
      ]
    },
    {
      "cell_type": "markdown",
      "source": [
        "## **FPR** RATE - Malicious"
      ],
      "metadata": {
        "id": "6O_rxaTGyMpT"
      }
    },
    {
      "cell_type": "code",
      "source": [
        "malicious_ind_train=np.where(y_train==0.0)\n",
        "insrt_train=x_train_url_strs[malicious_ind_train]\n",
        "y_train_workload = y_train[malicious_ind_train]\n",
        "x_train_workload = x_train[malicious_ind_train]\n",
        "malicious_ind_test=np.where(y_test==0.0)\n",
        "insrt_test=x_test_url_strs[malicious_ind_test]\n",
        "y_test_workload = y_test[malicious_ind_test]\n",
        "x_test_workload = x_test[malicious_ind_test]\n",
        "len(insrt_train), len(insrt_test)"
      ],
      "metadata": {
        "colab": {
          "base_uri": "https://localhost:8080/"
        },
        "outputId": "924d9c29-4e7f-49a5-dd1e-8c6ecda76f2f",
        "id": "5eGQmGgqyMpT"
      },
      "execution_count": 36,
      "outputs": [
        {
          "output_type": "execute_result",
          "data": {
            "text/plain": [
              "(260, 4375)"
            ]
          },
          "metadata": {},
          "execution_count": 36
        }
      ]
    },
    {
      "cell_type": "code",
      "source": [
        "fn_rates_models = []\n",
        "for algo in models:\n",
        "  fn=0\n",
        "  fn_rate=[]\n",
        "  sbf=stable_bloom_filter(1024, 5, 1)\n",
        "  for el in insrt_train:\n",
        "    sbf.is_duplicate(el)\n",
        "  for ind in range(len(x_test_workload)):\n",
        "    clf = models[algo]\n",
        "    res = clf.predict(x_test_workload[ind].reshape(1,6))\n",
        "    \n",
        "    if res==1:\n",
        "      res2=True\n",
        "    else:\n",
        "      res2=sbf.is_duplicate(x_test_url_strs[ind])\n",
        "\n",
        "    if (res2 and y_test_workload[ind]==0.0):\n",
        "      fn+=1\n",
        "    # print(fn)\n",
        "    fn_rate.append(fn/(ind+1))\n",
        "  fn_rates_models.append(fn_rate)"
      ],
      "metadata": {
        "id": "RWEFH8nEyMpU"
      },
      "execution_count": 37,
      "outputs": []
    },
    {
      "cell_type": "code",
      "source": [
        "import matplotlib.pyplot as plt\n",
        "plt.figure(figsize=(10,5))\n",
        "plt.title(\"FPR Rate for a Synthetic WorkLoad [Legitimate URLS] across Various Classifiers\")\n",
        "plt.plot(fn_rates_models[0])\n",
        "plt.plot(fn_rates_models[1])\n",
        "plt.plot(fn_rates_models[2])\n",
        "plt.legend(models.keys())\n",
        "plt.xlabel(\"Insertions\")\n",
        "plt.ylabel(\"FPR Rate\")\n",
        "plt.show()  "
      ],
      "metadata": {
        "colab": {
          "base_uri": "https://localhost:8080/",
          "height": 350
        },
        "outputId": "2a98844e-e7d6-4d05-aeec-a97011a13f02",
        "id": "c12GEe57yMpU"
      },
      "execution_count": 38,
      "outputs": [
        {
          "output_type": "display_data",
          "data": {
            "text/plain": [
              "<Figure size 720x360 with 1 Axes>"
            ],
            "image/png": "[encoded data removed]"
          },
          "metadata": {
            "needs_background": "light"
          }
        }
      ]
    },
    {
      "cell_type": "code",
      "source": [
        ""
      ],
      "metadata": {
        "id": "oFolsbWlyj0L"
      },
      "execution_count": null,
      "outputs": []
    }
  ]
}