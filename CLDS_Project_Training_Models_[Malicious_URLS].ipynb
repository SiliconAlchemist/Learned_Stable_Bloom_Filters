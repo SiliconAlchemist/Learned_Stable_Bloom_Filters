{
  "nbformat": 4,
  "nbformat_minor": 0,
  "metadata": {
    "colab": {
      "name": "CLDS Project - Training Models [Malicious URLS].ipynb",
      "provenance": [],
      "collapsed_sections": [],
      "include_colab_link": true
    },
    "kernelspec": {
      "name": "python3",
      "display_name": "Python 3"
    },
    "language_info": {
      "name": "python"
    }
  },
  "cells": [
    {
      "cell_type": "markdown",
      "metadata": {
        "id": "view-in-github",
        "colab_type": "text"
      },
      "source": [
        "<a href=\"https://colab.research.google.com/github/SiliconAlchemist/Learned_Stable_Bloom_Filters/blob/main/CLDS_Project_Training_Models_%5BMalicious_URLS%5D.ipynb\" target=\"_parent\"><img src=\"https://colab.research.google.com/assets/colab-badge.svg\" alt=\"Open In Colab\"/></a>"
      ]
    },
    {
      "cell_type": "code",
      "source": [
        "!pip install tldextract\n",
        "!pip install mmh3"
      ],
      "metadata": {
        "colab": {
          "base_uri": "https://localhost:8080/"
        },
        "id": "_n3PPKvZtA5g",
        "outputId": "1a5b267d-d4ad-4871-ba20-d341f484f700"
      },
      "execution_count": 145,
      "outputs": [
        {
          "output_type": "stream",
          "name": "stdout",
          "text": [
            "Requirement already satisfied: tldextract in /usr/local/lib/python3.7/dist-packages (3.2.1)\n",
            "Requirement already satisfied: idna in /usr/local/lib/python3.7/dist-packages (from tldextract) (2.10)\n",
            "Requirement already satisfied: requests-file>=1.4 in /usr/local/lib/python3.7/dist-packages (from tldextract) (1.5.1)\n",
            "Requirement already satisfied: requests>=2.1.0 in /usr/local/lib/python3.7/dist-packages (from tldextract) (2.23.0)\n",
            "Requirement already satisfied: filelock>=3.0.8 in /usr/local/lib/python3.7/dist-packages (from tldextract) (3.6.0)\n",
            "Requirement already satisfied: chardet<4,>=3.0.2 in /usr/local/lib/python3.7/dist-packages (from requests>=2.1.0->tldextract) (3.0.4)\n",
            "Requirement already satisfied: certifi>=2017.4.17 in /usr/local/lib/python3.7/dist-packages (from requests>=2.1.0->tldextract) (2021.10.8)\n",
            "Requirement already satisfied: urllib3!=1.25.0,!=1.25.1,<1.26,>=1.21.1 in /usr/local/lib/python3.7/dist-packages (from requests>=2.1.0->tldextract) (1.24.3)\n",
            "Requirement already satisfied: six in /usr/local/lib/python3.7/dist-packages (from requests-file>=1.4->tldextract) (1.15.0)\n",
            "Requirement already satisfied: mmh3 in /usr/local/lib/python3.7/dist-packages (3.0.0)\n"
          ]
        }
      ]
    },
    {
      "cell_type": "code",
      "execution_count": 146,
      "metadata": {
        "id": "k92dRjYY593Z"
      },
      "outputs": [],
      "source": [
        "import torch\n",
        "import torch.nn as nn\n",
        "import torch.nn.functional as F\n",
        "import numpy as np\n",
        "import os\n",
        "import time\n",
        "from collections import Counter\n",
        "import pandas as pd\n",
        "import matplotlib.pyplot as plt\n",
        "from urllib.parse import urlparse\n",
        "import tldextract\n",
        "from ipaddress import ip_address\n",
        "import seaborn as sns\n",
        "import random"
      ]
    },
    {
      "cell_type": "code",
      "source": [
        "from google.colab import drive\n",
        "drive.mount('/content/drive')"
      ],
      "metadata": {
        "colab": {
          "base_uri": "https://localhost:8080/"
        },
        "id": "sxU_GagR6TAL",
        "outputId": "4e1dc01a-0d3e-4e54-ad07-ec4393082c54"
      },
      "execution_count": 147,
      "outputs": [
        {
          "output_type": "stream",
          "name": "stdout",
          "text": [
            "Drive already mounted at /content/drive; to attempt to forcibly remount, call drive.mount(\"/content/drive\", force_remount=True).\n"
          ]
        }
      ]
    },
    {
      "cell_type": "code",
      "source": [
        "# ! cd /content/drive/MyDrive/CLDS_Shortcut/CLDS/Dataset/URL && ls\n",
        "! cd /content/drive/MyDrive/Sem\\ 8/CLDS/Dataset/URL && ls"
      ],
      "metadata": {
        "colab": {
          "base_uri": "https://localhost:8080/"
        },
        "id": "Mn8v6qJu7wa8",
        "outputId": "3597be42-e2c2-4942-a2c7-1b678f0cdf7d"
      },
      "execution_count": 148,
      "outputs": [
        {
          "output_type": "stream",
          "name": "stdout",
          "text": [
            "Legitimate.txt\tPhishing.txt\n"
          ]
        }
      ]
    },
    {
      "cell_type": "code",
      "source": [
        "root = \"drive/MyDrive/Sem 8/CLDS/Dataset/URL/\"\n",
        "phishing_url = \"Phishing.txt\"\n",
        "legitimate_url = \"Legitimate.txt\""
      ],
      "metadata": {
        "id": "aYN2ciBn8bE0"
      },
      "execution_count": 149,
      "outputs": []
    },
    {
      "cell_type": "code",
      "source": [
        "with open(root+phishing_url, encoding=\"ISO-8859-1\") as f:\n",
        "    phishing_urls = f.readlines()\n",
        "with open(root+legitimate_url, encoding=\"ISO-8859-1\") as f:\n",
        "    legitimate_urls = f.readlines()"
      ],
      "metadata": {
        "id": "wCaUuvO278Rz"
      },
      "execution_count": 150,
      "outputs": []
    },
    {
      "cell_type": "code",
      "source": [
        "len(phishing_urls), len(legitimate_urls)"
      ],
      "metadata": {
        "colab": {
          "base_uri": "https://localhost:8080/"
        },
        "id": "LXSGeEub9Mc_",
        "outputId": "a7d31b02-87ea-49fb-a513-7720d2b30249"
      },
      "execution_count": 151,
      "outputs": [
        {
          "output_type": "execute_result",
          "data": {
            "text/plain": [
              "(14998, 14999)"
            ]
          },
          "metadata": {},
          "execution_count": 151
        }
      ]
    },
    {
      "cell_type": "code",
      "source": [
        "legitimate_URLs = [l.split('www.')[-1] for l in legitimate_urls]\n",
        "phishing_URLs = [p.split('www.')[-1] for p in phishing_urls]"
      ],
      "metadata": {
        "id": "poAAvEF2_X7K"
      },
      "execution_count": 152,
      "outputs": []
    },
    {
      "cell_type": "markdown",
      "source": [
        "### Feature Selection\n",
        "1. Length of URL\n",
        "2. No. of Dots\n",
        "3. Presence of Hyphen\n",
        "4. Presence of Double Slashes\n",
        "5. Presence of @ Symbol\n",
        "6. Presence of IP Address"
      ],
      "metadata": {
        "id": "DIkR-ZvBmAFO"
      }
    },
    {
      "cell_type": "code",
      "source": [
        "phishing_urls[0], urlparse(phishing_urls[0]), tldextract.extract(phishing_urls[0])"
      ],
      "metadata": {
        "colab": {
          "base_uri": "https://localhost:8080/"
        },
        "id": "6pVp_nAx_kfQ",
        "outputId": "b491e60e-086b-4af3-d278-03db192542f6"
      },
      "execution_count": 153,
      "outputs": [
        {
          "output_type": "execute_result",
          "data": {
            "text/plain": [
              "('http://sydneyin.com.au/wp-content/themes/s/index.php?id=usaaonline\\n',\n",
              " ParseResult(scheme='http', netloc='sydneyin.com.au', path='/wp-content/themes/s/index.php', params='', query='id=usaaonline', fragment=''),\n",
              " ExtractResult(subdomain='', domain='sydneyin', suffix='com.au'))"
            ]
          },
          "metadata": {},
          "execution_count": 153
        }
      ]
    },
    {
      "cell_type": "code",
      "source": [
        "length_url = []\n",
        "labels = []\n",
        "num_dots = []\n",
        "num_hyphen = []\n",
        "num_double_slashes = []\n",
        "num_at = []\n",
        "bool_ip_addr = []\n",
        "url_strs=[]\n",
        "\n",
        "def generate_features(url, label):\n",
        "  length_url.append(len(url))\n",
        "  num_dots.append(url.count('.'))\n",
        "  num_hyphen.append(url.count('-'))\n",
        "  num_double_slashes.append(url.count('//'))\n",
        "  num_at.append(url.count('@'))\n",
        "  url_strs.append(url)\n",
        "  \n",
        "  try:\n",
        "    tldextract.extract(url).domain\n",
        "    bool_ip_addr.append(1)\n",
        "  except:\n",
        "    bool_ip_addr.append(0)\n",
        "\n",
        "  labels.append(label)"
      ],
      "metadata": {
        "id": "z4bI8xJ3_2fU"
      },
      "execution_count": 154,
      "outputs": []
    },
    {
      "cell_type": "code",
      "source": [
        "for url in phishing_urls:\n",
        "  generate_features(url, 1)\n",
        "\n",
        "for url in legitimate_urls:\n",
        "  generate_features(url, 0)"
      ],
      "metadata": {
        "id": "_REudq9Huh84"
      },
      "execution_count": 155,
      "outputs": []
    },
    {
      "cell_type": "code",
      "source": [
        "len(length_url), len(labels), len(num_dots), len(num_hyphen), len(num_double_slashes), len(num_at), len(bool_ip_addr), len(url_strs)"
      ],
      "metadata": {
        "colab": {
          "base_uri": "https://localhost:8080/"
        },
        "id": "P5ZEhMqX2DCN",
        "outputId": "ff4dfc9e-ef51-411e-e29c-bae9d8bebcfd"
      },
      "execution_count": 156,
      "outputs": [
        {
          "output_type": "execute_result",
          "data": {
            "text/plain": [
              "(29997, 29997, 29997, 29997, 29997, 29997, 29997, 29997)"
            ]
          },
          "metadata": {},
          "execution_count": 156
        }
      ]
    },
    {
      "cell_type": "code",
      "source": [
        "final_data = np.array(np.vstack((url_strs,length_url, num_dots, num_hyphen, num_double_slashes, num_at, bool_ip_addr, labels))).T"
      ],
      "metadata": {
        "id": "CqxjOGNL6ol2"
      },
      "execution_count": 157,
      "outputs": []
    },
    {
      "cell_type": "code",
      "source": [
        "random.shuffle(final_data)"
      ],
      "metadata": {
        "id": "7WQRgJOW63f0"
      },
      "execution_count": 158,
      "outputs": []
    },
    {
      "cell_type": "code",
      "source": [
        "final_data[:,7]"
      ],
      "metadata": {
        "colab": {
          "base_uri": "https://localhost:8080/"
        },
        "id": "4qDcbdUe7reQ",
        "outputId": "5dcbd6c7-aa10-492d-b0d8-eb45c44ec2f5"
      },
      "execution_count": 159,
      "outputs": [
        {
          "output_type": "execute_result",
          "data": {
            "text/plain": [
              "array(['1', '1', '1', ..., '0', '0', '1'], dtype='<U953')"
            ]
          },
          "metadata": {},
          "execution_count": 159
        }
      ]
    },
    {
      "cell_type": "code",
      "source": [
        "from sklearn.metrics import confusion_matrix\n",
        "from sklearn import svm\n",
        "from sklearn.naive_bayes import GaussianNB\n",
        "from sklearn.linear_model import LogisticRegression\n",
        "from sklearn.model_selection import train_test_split"
      ],
      "metadata": {
        "id": "oLbqOR6f8-hd"
      },
      "execution_count": 160,
      "outputs": []
    },
    {
      "cell_type": "code",
      "source": [
        "x_train_complete, x_test_complete, y_train, y_test = train_test_split(final_data[:,:7], final_data[:,7], test_size = 0.95, random_state = 42)"
      ],
      "metadata": {
        "id": "s3toVDC-9QnQ"
      },
      "execution_count": 161,
      "outputs": []
    },
    {
      "cell_type": "code",
      "source": [
        "x_train_complete[:,1:7]"
      ],
      "metadata": {
        "colab": {
          "base_uri": "https://localhost:8080/"
        },
        "id": "fKzsf0yf2ilD",
        "outputId": "d8e62ae5-bf9b-43f4-ba09-c81c8e8a77ba"
      },
      "execution_count": 162,
      "outputs": [
        {
          "output_type": "execute_result",
          "data": {
            "text/plain": [
              "array([['68', '3', '0', '1', '0', '1'],\n",
              "       ['15', '1', '0', '0', '0', '1'],\n",
              "       ['953', '26', '3', '1', '0', '1'],\n",
              "       ...,\n",
              "       ['46', '2', '0', '1', '0', '1'],\n",
              "       ['25', '1', '0', '1', '0', '1'],\n",
              "       ['42', '2', '0', '1', '0', '1']], dtype='<U953')"
            ]
          },
          "metadata": {},
          "execution_count": 162
        }
      ]
    },
    {
      "cell_type": "code",
      "source": [
        "x_train_url_strs=x_train_complete[:,0]\n",
        "x_train=x_train_complete[:,1:7].astype('float')\n",
        "y_train=y_train.astype('float')\n",
        "x_test_url_strs=x_test_complete[:,0]\n",
        "x_test=x_test_complete[:,1:7].astype('float')\n",
        "y_test=y_test.astype('float')"
      ],
      "metadata": {
        "id": "RksC2rF32IxL"
      },
      "execution_count": 163,
      "outputs": []
    },
    {
      "cell_type": "code",
      "source": [
        "np.unique(y_train,return_counts=True), np.unique(y_test,return_counts=True)"
      ],
      "metadata": {
        "colab": {
          "base_uri": "https://localhost:8080/"
        },
        "id": "7q1D2N4R_4JH",
        "outputId": "9e59a16c-2b27-454c-a36b-812a5e12cbda"
      },
      "execution_count": 164,
      "outputs": [
        {
          "output_type": "execute_result",
          "data": {
            "text/plain": [
              "((array([0., 1.]), array([ 242, 1257])),\n",
              " (array([0., 1.]), array([ 4315, 24183])))"
            ]
          },
          "metadata": {},
          "execution_count": 164
        }
      ]
    },
    {
      "cell_type": "code",
      "source": [
        "len(x_train), len(x_test), len(y_train), len(y_test)"
      ],
      "metadata": {
        "colab": {
          "base_uri": "https://localhost:8080/"
        },
        "id": "oDNlwv-7-DwB",
        "outputId": "8963b653-2f0a-4c49-cebd-a7e4eef2c1bb"
      },
      "execution_count": 165,
      "outputs": [
        {
          "output_type": "execute_result",
          "data": {
            "text/plain": [
              "(1499, 28498, 1499, 28498)"
            ]
          },
          "metadata": {},
          "execution_count": 165
        }
      ]
    },
    {
      "cell_type": "code",
      "source": [
        "models = { \"Gaussian Naive Bayes\":GaussianNB(),\n",
        "         \"Logistic Regression\":LogisticRegression(),\n",
        "          \"Support Vector Machines\": svm.SVC()   \n",
        "}"
      ],
      "metadata": {
        "id": "zenx7zrf-QB-"
      },
      "execution_count": 166,
      "outputs": []
    },
    {
      "cell_type": "code",
      "source": [
        "results = {}\n",
        "for algo in models:\n",
        "    clf = models[algo]\n",
        "    clf.fit(x_train,y_train)\n",
        "    score = clf.score(x_test,y_test)\n",
        "    print (\"%s : %s \" %(algo, score))\n",
        "    results[algo] = score"
      ],
      "metadata": {
        "colab": {
          "base_uri": "https://localhost:8080/"
        },
        "id": "sOy7SZ8Z-32n",
        "outputId": "80302d06-7745-416e-ea2d-5a07d609786c"
      },
      "execution_count": 167,
      "outputs": [
        {
          "output_type": "stream",
          "name": "stdout",
          "text": [
            "Gaussian Naive Bayes : 0.9999298196364658 \n",
            "Logistic Regression : 0.9990525650922871 \n",
            "Support Vector Machines : 0.9924556109200645 \n"
          ]
        }
      ]
    },
    {
      "cell_type": "code",
      "source": [
        "results = {}\n",
        "for algo in models:\n",
        "  clf = models[algo]\n",
        "  res = clf.predict(x_test)\n",
        "  mt = confusion_matrix(y_test, res)\n",
        "  print(algo)\n",
        "  print(\"False positive rate : %f %%\" % ((mt[0][1] / float(sum(mt[0])))*100))\n",
        "  print('False negative rate : %f %%' % ( (mt[1][0] / float(sum(mt[1]))*100)))"
      ],
      "metadata": {
        "colab": {
          "base_uri": "https://localhost:8080/"
        },
        "id": "ryzIGvwz-_GW",
        "outputId": "6fef907f-e0d9-4062-c1d1-ce97a2049609"
      },
      "execution_count": 168,
      "outputs": [
        {
          "output_type": "stream",
          "name": "stdout",
          "text": [
            "Gaussian Naive Bayes\n",
            "False positive rate : 0.046350 %\n",
            "False negative rate : 0.000000 %\n",
            "Logistic Regression\n",
            "False positive rate : 0.231750 %\n",
            "False negative rate : 0.070297 %\n",
            "Support Vector Machines\n",
            "False positive rate : 1.112399 %\n",
            "False negative rate : 0.690568 %\n"
          ]
        }
      ]
    },
    {
      "cell_type": "code",
      "source": [
        "import mmh3\n",
        "from random import sample\n",
        "\n",
        "\n",
        "class stable_bloom_filter(object):\n",
        "    \n",
        "    def __init__(self,m,Mx,K):\n",
        "        '''\n",
        "        m: Number of Cells in the bloom filter\n",
        "        Mx: Maximum value a cell can hold\n",
        "        K: Number of Hash Functions\n",
        "        \n",
        "        Initialises a stable bloom filter\n",
        "        ''' \n",
        "        self.m=m\n",
        "        self.Mx=Mx\n",
        "        self.K=K\n",
        "        \n",
        "        #calculating other parameters.\n",
        "        self.P=256\n",
        "        self.filter=[0]*self.m\n",
        "        \n",
        "    def is_duplicate(self,item):\n",
        "        '''\n",
        "        item: input item\n",
        "        \n",
        "        returns if the input item is already contained within the filter\n",
        "        '''\n",
        "        flag=True\n",
        "        hashes=self.get_hashes(item)\n",
        "        for i in range(self.K):\n",
        "            if(self.filter[hashes[i]]==0):\n",
        "                flag=False\n",
        "\n",
        "        self.remove_random_elements()\n",
        "        self.add_element(hashes)\n",
        "        return flag\n",
        "    \n",
        "    def add_element(self,hashes):\n",
        "        '''\n",
        "        hashes: keys by K hash functions\n",
        "        Adds an element to the filter by setting all the hash cells to max\n",
        "        '''\n",
        "        for i in range(self.K):\n",
        "            self.filter[hashes[i]]=self.Mx\n",
        "        \n",
        "    \n",
        "    def remove_random_elements(self):\n",
        "        '''\n",
        "        Decrement random P cells by 1.\n",
        "        '''\n",
        "        cell_ind=[i for i in range(self.m)]\n",
        "        rem_ind=sample(cell_ind,self.P)\n",
        "        for i in rem_ind:\n",
        "            self.filter[i]=max(0,self.filter[i]-1)\n",
        "    \n",
        "    def get_hashes(self,item):\n",
        "        '''\n",
        "        item: input item\n",
        "        \n",
        "        returns K hashes derived from k independent hash functions\n",
        "        '''\n",
        "        hashes = []\n",
        "        \n",
        "        for i in range(self.K):\n",
        "            hash_val = mmh3.hash(item, i) % self.m\n",
        "            hashes.append(hash_val)\n",
        "        \n",
        "        return hashes"
      ],
      "metadata": {
        "id": "82O_y0ncttkg"
      },
      "execution_count": 169,
      "outputs": []
    },
    {
      "cell_type": "code",
      "source": [
        "y_train"
      ],
      "metadata": {
        "colab": {
          "base_uri": "https://localhost:8080/"
        },
        "id": "kvicNlQn6cqT",
        "outputId": "f7a7d44e-4c31-45ed-b6a8-614fb4838880"
      },
      "execution_count": 170,
      "outputs": [
        {
          "output_type": "execute_result",
          "data": {
            "text/plain": [
              "array([1., 0., 1., ..., 1., 1., 1.])"
            ]
          },
          "metadata": {},
          "execution_count": 170
        }
      ]
    },
    {
      "cell_type": "code",
      "source": [
        ""
      ],
      "metadata": {
        "id": "pFxW3JrbxOcO"
      },
      "execution_count": 170,
      "outputs": []
    },
    {
      "cell_type": "markdown",
      "source": [
        "## FNR RATE - Malicious"
      ],
      "metadata": {
        "id": "448DVC-IxQBK"
      }
    },
    {
      "cell_type": "code",
      "source": [
        "malicious_ind_train=np.where(y_train==1.0)\n",
        "insrt_train=x_train_url_strs[malicious_ind_train]\n",
        "y_train_workload = y_train[malicious_ind_train]\n",
        "x_train_workload = x_train[malicious_ind_train]\n",
        "malicious_ind_test=np.where(y_test==1.0)\n",
        "insrt_test=x_test_url_strs[malicious_ind_test]\n",
        "y_test_workload = y_test[malicious_ind_test]\n",
        "x_test_workload = x_test[malicious_ind_test]\n",
        "len(insrt_train), len(insrt_test)"
      ],
      "metadata": {
        "colab": {
          "base_uri": "https://localhost:8080/"
        },
        "id": "KU9koVq4yLPr",
        "outputId": "6c2f093c-3488-436b-b934-9dfd95a4ca81"
      },
      "execution_count": 171,
      "outputs": [
        {
          "output_type": "execute_result",
          "data": {
            "text/plain": [
              "(1257, 24183)"
            ]
          },
          "metadata": {},
          "execution_count": 171
        }
      ]
    },
    {
      "cell_type": "code",
      "source": [
        "fn_rates_models = []\n",
        "for algo in models:\n",
        "  fn=0\n",
        "  fn_rate=[]\n",
        "  sbf=stable_bloom_filter(1024, 5, 1)\n",
        "  for el in insrt_train:\n",
        "    sbf.is_duplicate(el)\n",
        "  for ind in range(len(x_test_workload)):\n",
        "    clf = models[algo]\n",
        "    res = clf.predict(x_test_workload[ind].reshape(1,6))\n",
        "    \n",
        "    if res==1:\n",
        "      res2=True\n",
        "    else:\n",
        "      res2=sbf.is_duplicate(x_test_url_strs[ind])\n",
        "\n",
        "    if (not res2 and y_test_workload[ind]==1.0):\n",
        "      fn+=1\n",
        "    # print(fn)\n",
        "    fn_rate.append(fn/(ind+1))\n",
        "  fn_rates_models.append(fn_rate)"
      ],
      "metadata": {
        "id": "RP5VQNYD5w6q"
      },
      "execution_count": 172,
      "outputs": []
    },
    {
      "cell_type": "code",
      "source": [
        "import matplotlib.pyplot as plt\n",
        "plt.figure(figsize=(10,5))\n",
        "plt.title(\"FNR Rate for a Synthetic WorkLoad [Malicious URLS] across Various Classifiers\")\n",
        "plt.plot(fn_rates_models[0])\n",
        "plt.plot(fn_rates_models[1])\n",
        "plt.plot(fn_rates_models[2])\n",
        "\n",
        "plt.legend(models.keys())\n",
        "plt.xlabel(\"Insertions\")\n",
        "plt.ylabel(\"FNR Rate\")\n",
        "plt.show()  "
      ],
      "metadata": {
        "colab": {
          "base_uri": "https://localhost:8080/",
          "height": 350
        },
        "id": "cMjk4-wI-KpA",
        "outputId": "7025210a-30eb-4d2e-9e08-34fc4fecc3d7"
      },
      "execution_count": 173,
      "outputs": [
        {
          "output_type": "display_data",
          "data": {
            "text/plain": [
              "<Figure size 720x360 with 1 Axes>"
            ],
            "image/png": "[encoded data removed]"
          },
          "metadata": {
            "needs_background": "light"
          }
        }
      ]
    },
    {
      "cell_type": "markdown",
      "source": [
        "## **FPR** RATE - Malicious"
      ],
      "metadata": {
        "id": "6O_rxaTGyMpT"
      }
    },
    {
      "cell_type": "code",
      "source": [
        "malicious_ind_train=np.where(y_train==0.0)\n",
        "insrt_train=x_train_url_strs[malicious_ind_train]\n",
        "y_train_workload = y_train[malicious_ind_train]\n",
        "x_train_workload = x_train[malicious_ind_train]\n",
        "malicious_ind_test=np.where(y_test==0.0)\n",
        "insrt_test=x_test_url_strs[malicious_ind_test]\n",
        "y_test_workload = y_test[malicious_ind_test]\n",
        "x_test_workload = x_test[malicious_ind_test]\n",
        "len(insrt_train), len(insrt_test)"
      ],
      "metadata": {
        "colab": {
          "base_uri": "https://localhost:8080/"
        },
        "outputId": "1765f049-010c-40f1-e003-b1be3a5a2b6f",
        "id": "5eGQmGgqyMpT"
      },
      "execution_count": 174,
      "outputs": [
        {
          "output_type": "execute_result",
          "data": {
            "text/plain": [
              "(242, 4315)"
            ]
          },
          "metadata": {},
          "execution_count": 174
        }
      ]
    },
    {
      "cell_type": "code",
      "source": [
        "fn_rates_models = []\n",
        "for algo in models:\n",
        "  fn=0\n",
        "  fn_rate=[]\n",
        "  sbf=stable_bloom_filter(1024, 5, 1)\n",
        "  for el in insrt_train:\n",
        "    sbf.is_duplicate(el)\n",
        "  for ind in range(len(x_test_workload)):\n",
        "    clf = models[algo]\n",
        "    res = clf.predict(x_test_workload[ind].reshape(1,6))\n",
        "    \n",
        "    if res==1:\n",
        "      res2=True\n",
        "    else:\n",
        "      res2=sbf.is_duplicate(x_test_url_strs[ind])\n",
        "\n",
        "    if (res2 and y_test_workload[ind]==0.0):\n",
        "      fn+=1\n",
        "    # print(fn)\n",
        "    fn_rate.append(fn/(ind+1))\n",
        "  fn_rates_models.append(fn_rate)"
      ],
      "metadata": {
        "id": "RWEFH8nEyMpU"
      },
      "execution_count": 175,
      "outputs": []
    },
    {
      "cell_type": "code",
      "source": [
        "import matplotlib.pyplot as plt\n",
        "plt.figure(figsize=(10,5))\n",
        "plt.title(\"FPR Rate for a Synthetic WorkLoad [Legitimate URLS] across Various Classifiers\")\n",
        "plt.plot(fn_rates_models[0])\n",
        "plt.plot(fn_rates_models[1])\n",
        "plt.plot(fn_rates_models[2])\n",
        "plt.legend(models.keys())\n",
        "plt.xlabel(\"Insertions\")\n",
        "plt.ylabel(\"FPR Rate\")\n",
        "plt.show()  "
      ],
      "metadata": {
        "colab": {
          "base_uri": "https://localhost:8080/",
          "height": 350
        },
        "outputId": "6fa9918b-38ac-437d-c072-3c1c86fb8722",
        "id": "c12GEe57yMpU"
      },
      "execution_count": 176,
      "outputs": [
        {
          "output_type": "display_data",
          "data": {
            "text/plain": [
              "<Figure size 720x360 with 1 Axes>"
            ],
            "image/png": "[encoded data removed]"
          },
          "metadata": {
            "needs_background": "light"
          }
        }
      ]
    },
    {
      "cell_type": "code",
      "source": [
        ""
      ],
      "metadata": {
        "id": "oFolsbWlyj0L"
      },
      "execution_count": 176,
      "outputs": []
    }
  ]
}