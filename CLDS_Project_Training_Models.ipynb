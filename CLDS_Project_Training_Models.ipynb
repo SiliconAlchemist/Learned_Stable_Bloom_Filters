{
  "nbformat": 4,
  "nbformat_minor": 0,
  "metadata": {
    "colab": {
      "name": "CLDS Project - Training Models.ipynb",
      "provenance": [],
      "collapsed_sections": [],
      "include_colab_link": true
    },
    "kernelspec": {
      "name": "python3",
      "display_name": "Python 3"
    },
    "language_info": {
      "name": "python"
    }
  },
  "cells": [
    {
      "cell_type": "markdown",
      "metadata": {
        "id": "view-in-github",
        "colab_type": "text"
      },
      "source": [
        "<a href=\"https://colab.research.google.com/github/SiliconAlchemist/Learned_Stable_Bloom_Filters/blob/main/CLDS_Project_Training_Models.ipynb\" target=\"_parent\"><img src=\"https://colab.research.google.com/assets/colab-badge.svg\" alt=\"Open In Colab\"/></a>"
      ]
    },
    {
      "cell_type": "code",
      "source": [
        "!pip install tldextract\n",
        "!pip install mmh3"
      ],
      "metadata": {
        "colab": {
          "base_uri": "https://localhost:8080/"
        },
        "id": "_n3PPKvZtA5g",
        "outputId": "f69ae0ad-0b15-4499-cb39-6212d5aab156"
      },
      "execution_count": 113,
      "outputs": [
        {
          "output_type": "stream",
          "name": "stdout",
          "text": [
            "Requirement already satisfied: tldextract in /usr/local/lib/python3.7/dist-packages (3.2.1)\n",
            "Requirement already satisfied: requests-file>=1.4 in /usr/local/lib/python3.7/dist-packages (from tldextract) (1.5.1)\n",
            "Requirement already satisfied: requests>=2.1.0 in /usr/local/lib/python3.7/dist-packages (from tldextract) (2.23.0)\n",
            "Requirement already satisfied: filelock>=3.0.8 in /usr/local/lib/python3.7/dist-packages (from tldextract) (3.6.0)\n",
            "Requirement already satisfied: idna in /usr/local/lib/python3.7/dist-packages (from tldextract) (2.10)\n",
            "Requirement already satisfied: chardet<4,>=3.0.2 in /usr/local/lib/python3.7/dist-packages (from requests>=2.1.0->tldextract) (3.0.4)\n",
            "Requirement already satisfied: certifi>=2017.4.17 in /usr/local/lib/python3.7/dist-packages (from requests>=2.1.0->tldextract) (2021.10.8)\n",
            "Requirement already satisfied: urllib3!=1.25.0,!=1.25.1,<1.26,>=1.21.1 in /usr/local/lib/python3.7/dist-packages (from requests>=2.1.0->tldextract) (1.24.3)\n",
            "Requirement already satisfied: six in /usr/local/lib/python3.7/dist-packages (from requests-file>=1.4->tldextract) (1.15.0)\n",
            "Requirement already satisfied: mmh3 in /usr/local/lib/python3.7/dist-packages (3.0.0)\n"
          ]
        }
      ]
    },
    {
      "cell_type": "code",
      "execution_count": 114,
      "metadata": {
        "id": "k92dRjYY593Z"
      },
      "outputs": [],
      "source": [
        "import torch\n",
        "import torch.nn as nn\n",
        "import torch.nn.functional as F\n",
        "import numpy as np\n",
        "import os\n",
        "import time\n",
        "from collections import Counter\n",
        "import pandas as pd\n",
        "import matplotlib.pyplot as plt\n",
        "from urllib.parse import urlparse\n",
        "import tldextract\n",
        "from ipaddress import ip_address\n",
        "import seaborn as sns\n",
        "import random"
      ]
    },
    {
      "cell_type": "code",
      "source": [
        "from google.colab import drive\n",
        "drive.mount('/content/drive')"
      ],
      "metadata": {
        "colab": {
          "base_uri": "https://localhost:8080/"
        },
        "id": "sxU_GagR6TAL",
        "outputId": "3513edba-c406-4622-fcb0-5b142f9d2f6f"
      },
      "execution_count": 115,
      "outputs": [
        {
          "output_type": "stream",
          "name": "stdout",
          "text": [
            "Drive already mounted at /content/drive; to attempt to forcibly remount, call drive.mount(\"/content/drive\", force_remount=True).\n"
          ]
        }
      ]
    },
    {
      "cell_type": "code",
      "source": [
        "# ! cd /content/drive/MyDrive/CLDS_Shortcut/CLDS/Dataset/URL && ls\n",
        "! cd /content/drive/MyDrive/Sem\\ 8/CLDS/Dataset/URL && ls"
      ],
      "metadata": {
        "colab": {
          "base_uri": "https://localhost:8080/"
        },
        "id": "Mn8v6qJu7wa8",
        "outputId": "d87ab499-3ddd-4df9-93d6-a253c2bd08fd"
      },
      "execution_count": 116,
      "outputs": [
        {
          "output_type": "stream",
          "name": "stdout",
          "text": [
            "Legitimate.txt\tPhishing.txt\n"
          ]
        }
      ]
    },
    {
      "cell_type": "code",
      "source": [
        "root = \"drive/MyDrive/Sem 8/CLDS/Dataset/URL/\"\n",
        "phishing_url = \"Phishing.txt\"\n",
        "legitimate_url = \"Legitimate.txt\""
      ],
      "metadata": {
        "id": "aYN2ciBn8bE0"
      },
      "execution_count": 117,
      "outputs": []
    },
    {
      "cell_type": "code",
      "source": [
        "with open(root+phishing_url, encoding=\"ISO-8859-1\") as f:\n",
        "    phishing_urls = f.readlines()\n",
        "with open(root+legitimate_url, encoding=\"ISO-8859-1\") as f:\n",
        "    legitimate_urls = f.readlines()"
      ],
      "metadata": {
        "id": "wCaUuvO278Rz"
      },
      "execution_count": 118,
      "outputs": []
    },
    {
      "cell_type": "code",
      "source": [
        "len(phishing_urls), len(legitimate_urls)"
      ],
      "metadata": {
        "colab": {
          "base_uri": "https://localhost:8080/"
        },
        "id": "LXSGeEub9Mc_",
        "outputId": "ac2d7f07-dfd3-4cc4-c5ed-f525823ff35d"
      },
      "execution_count": 119,
      "outputs": [
        {
          "output_type": "execute_result",
          "data": {
            "text/plain": [
              "(14998, 14999)"
            ]
          },
          "metadata": {},
          "execution_count": 119
        }
      ]
    },
    {
      "cell_type": "code",
      "source": [
        "legitimate_URLs = [l.split('www.')[-1] for l in legitimate_urls]\n",
        "phishing_URLs = [p.split('www.')[-1] for p in phishing_urls]"
      ],
      "metadata": {
        "id": "poAAvEF2_X7K"
      },
      "execution_count": 120,
      "outputs": []
    },
    {
      "cell_type": "markdown",
      "source": [
        "### Feature Selection\n",
        "1. Length of URL\n",
        "2. No. of Dots\n",
        "3. Presence of Hyphen\n",
        "4. Presence of Double Slashes\n",
        "5. Presence of @ Symbol\n",
        "6. Presence of IP Address"
      ],
      "metadata": {
        "id": "DIkR-ZvBmAFO"
      }
    },
    {
      "cell_type": "code",
      "source": [
        "phishing_urls[0], urlparse(phishing_urls[0]), tldextract.extract(phishing_urls[0])"
      ],
      "metadata": {
        "colab": {
          "base_uri": "https://localhost:8080/"
        },
        "id": "6pVp_nAx_kfQ",
        "outputId": "39548ffe-3df9-453f-a3da-ddcdb9aaa332"
      },
      "execution_count": 121,
      "outputs": [
        {
          "output_type": "execute_result",
          "data": {
            "text/plain": [
              "('http://sydneyin.com.au/wp-content/themes/s/index.php?id=usaaonline\\n',\n",
              " ParseResult(scheme='http', netloc='sydneyin.com.au', path='/wp-content/themes/s/index.php', params='', query='id=usaaonline', fragment=''),\n",
              " ExtractResult(subdomain='', domain='sydneyin', suffix='com.au'))"
            ]
          },
          "metadata": {},
          "execution_count": 121
        }
      ]
    },
    {
      "cell_type": "code",
      "source": [
        "length_url = []\n",
        "labels = []\n",
        "num_dots = []\n",
        "num_hyphen = []\n",
        "num_double_slashes = []\n",
        "num_at = []\n",
        "bool_ip_addr = []\n",
        "url_strs=[]\n",
        "\n",
        "def generate_features(url, label):\n",
        "  length_url.append(len(url))\n",
        "  num_dots.append(url.count('.'))\n",
        "  num_hyphen.append(url.count('-'))\n",
        "  num_double_slashes.append(url.count('//'))\n",
        "  num_at.append(url.count('@'))\n",
        "  url_strs.append(url)\n",
        "  \n",
        "  try:\n",
        "    tldextract.extract(url).domain\n",
        "    bool_ip_addr.append(1)\n",
        "  except:\n",
        "    bool_ip_addr.append(0)\n",
        "\n",
        "  labels.append(label)"
      ],
      "metadata": {
        "id": "z4bI8xJ3_2fU"
      },
      "execution_count": 122,
      "outputs": []
    },
    {
      "cell_type": "code",
      "source": [
        "for url in phishing_urls:\n",
        "  generate_features(url, 1)\n",
        "\n",
        "for url in legitimate_urls:\n",
        "  generate_features(url, 0)"
      ],
      "metadata": {
        "id": "_REudq9Huh84"
      },
      "execution_count": 123,
      "outputs": []
    },
    {
      "cell_type": "code",
      "source": [
        "len(length_url), len(labels), len(num_dots), len(num_hyphen), len(num_double_slashes), len(num_at), len(bool_ip_addr), len(url_strs)"
      ],
      "metadata": {
        "colab": {
          "base_uri": "https://localhost:8080/"
        },
        "id": "P5ZEhMqX2DCN",
        "outputId": "a2c7f4bb-f0ca-42cb-ec59-9c07ec675e97"
      },
      "execution_count": 124,
      "outputs": [
        {
          "output_type": "execute_result",
          "data": {
            "text/plain": [
              "(29997, 29997, 29997, 29997, 29997, 29997, 29997, 29997)"
            ]
          },
          "metadata": {},
          "execution_count": 124
        }
      ]
    },
    {
      "cell_type": "code",
      "source": [
        "final_data = np.array(np.vstack((url_strs,length_url, num_dots, num_hyphen, num_double_slashes, num_at, bool_ip_addr, labels))).T"
      ],
      "metadata": {
        "id": "CqxjOGNL6ol2"
      },
      "execution_count": 125,
      "outputs": []
    },
    {
      "cell_type": "code",
      "source": [
        "random.shuffle(final_data)"
      ],
      "metadata": {
        "id": "7WQRgJOW63f0"
      },
      "execution_count": 126,
      "outputs": []
    },
    {
      "cell_type": "code",
      "source": [
        "final_data[:,7]"
      ],
      "metadata": {
        "colab": {
          "base_uri": "https://localhost:8080/"
        },
        "id": "4qDcbdUe7reQ",
        "outputId": "d4c28e55-5337-4ae0-9191-3c3fec093036"
      },
      "execution_count": 127,
      "outputs": [
        {
          "output_type": "execute_result",
          "data": {
            "text/plain": [
              "array(['1', '1', '1', ..., '1', '1', '1'], dtype='<U953')"
            ]
          },
          "metadata": {},
          "execution_count": 127
        }
      ]
    },
    {
      "cell_type": "code",
      "source": [
        "from sklearn.metrics import confusion_matrix\n",
        "from sklearn import svm\n",
        "from sklearn.naive_bayes import GaussianNB\n",
        "from sklearn.linear_model import LogisticRegression\n",
        "from sklearn.model_selection import train_test_split"
      ],
      "metadata": {
        "id": "oLbqOR6f8-hd"
      },
      "execution_count": 128,
      "outputs": []
    },
    {
      "cell_type": "code",
      "source": [
        "x_train_complete, x_test_complete, y_train, y_test = train_test_split(final_data[:,:7], final_data[:,7], test_size = 0.95, random_state = 42)"
      ],
      "metadata": {
        "id": "s3toVDC-9QnQ"
      },
      "execution_count": 129,
      "outputs": []
    },
    {
      "cell_type": "code",
      "source": [
        "x_train_complete[:,1:7]"
      ],
      "metadata": {
        "colab": {
          "base_uri": "https://localhost:8080/"
        },
        "id": "fKzsf0yf2ilD",
        "outputId": "c7bd1467-7ae6-4fe8-b0ae-333d49997f2d"
      },
      "execution_count": 130,
      "outputs": [
        {
          "output_type": "execute_result",
          "data": {
            "text/plain": [
              "array([['45', '2', '0', '1', '0', '1'],\n",
              "       ['35', '3', '0', '1', '0', '1'],\n",
              "       ['54', '2', '0', '1', '0', '1'],\n",
              "       ...,\n",
              "       ['72', '3', '0', '1', '1', '1'],\n",
              "       ['49', '2', '1', '1', '1', '1'],\n",
              "       ['46', '5', '0', '1', '0', '1']], dtype='<U953')"
            ]
          },
          "metadata": {},
          "execution_count": 130
        }
      ]
    },
    {
      "cell_type": "code",
      "source": [
        "x_train_url_strs=x_train_complete[:,0]\n",
        "x_train=x_train_complete[:,1:7].astype('float')\n",
        "y_train=y_train.astype('float')\n",
        "x_test_url_strs=x_test_complete[:,0]\n",
        "x_test=x_test_complete[:,1:7].astype('float')\n",
        "y_test=y_test.astype('float')"
      ],
      "metadata": {
        "id": "RksC2rF32IxL"
      },
      "execution_count": 131,
      "outputs": []
    },
    {
      "cell_type": "code",
      "source": [
        "np.unique(y_train,return_counts=True), np.unique(y_test,return_counts=True)"
      ],
      "metadata": {
        "colab": {
          "base_uri": "https://localhost:8080/"
        },
        "id": "7q1D2N4R_4JH",
        "outputId": "c94122fd-d54a-4cae-da54-5768ef1dd005"
      },
      "execution_count": 132,
      "outputs": [
        {
          "output_type": "execute_result",
          "data": {
            "text/plain": [
              "((array([0., 1.]), array([ 233, 1266])),\n",
              " (array([0., 1.]), array([ 4369, 24129])))"
            ]
          },
          "metadata": {},
          "execution_count": 132
        }
      ]
    },
    {
      "cell_type": "code",
      "source": [
        "len(x_train), len(x_test), len(y_train), len(y_test)"
      ],
      "metadata": {
        "colab": {
          "base_uri": "https://localhost:8080/"
        },
        "id": "oDNlwv-7-DwB",
        "outputId": "16eb53e0-625d-4384-c45d-49e7b507b045"
      },
      "execution_count": 133,
      "outputs": [
        {
          "output_type": "execute_result",
          "data": {
            "text/plain": [
              "(1499, 28498, 1499, 28498)"
            ]
          },
          "metadata": {},
          "execution_count": 133
        }
      ]
    },
    {
      "cell_type": "code",
      "source": [
        "models = { \"Gaussian Naive Bayes\":GaussianNB(),\n",
        "         \"Logistic Regression\":LogisticRegression(),\n",
        "          \"Support Vector Machines\": svm.SVC()   \n",
        "}"
      ],
      "metadata": {
        "id": "zenx7zrf-QB-"
      },
      "execution_count": 134,
      "outputs": []
    },
    {
      "cell_type": "code",
      "source": [
        "results = {}\n",
        "for algo in models:\n",
        "    clf = models[algo]\n",
        "    clf.fit(x_train,y_train)\n",
        "    score = clf.score(x_test,y_test)\n",
        "    print (\"%s : %s \" %(algo, score))\n",
        "    results[algo] = score"
      ],
      "metadata": {
        "colab": {
          "base_uri": "https://localhost:8080/"
        },
        "id": "sOy7SZ8Z-32n",
        "outputId": "64084086-0751-4cc5-eea9-f8997e9a7be3"
      },
      "execution_count": 135,
      "outputs": [
        {
          "output_type": "stream",
          "name": "stdout",
          "text": [
            "Gaussian Naive Bayes : 0.9998947294546986 \n",
            "Logistic Regression : 0.9987367534563829 \n",
            "Support Vector Machines : 0.9904905607411046 \n"
          ]
        }
      ]
    },
    {
      "cell_type": "code",
      "source": [
        "results = {}\n",
        "for algo in models:\n",
        "  clf = models[algo]\n",
        "  res = clf.predict(x_test)\n",
        "  mt = confusion_matrix(y_test, res)\n",
        "  print(algo)\n",
        "  print(\"False positive rate : %f %%\" % ((mt[0][1] / float(sum(mt[0])))*100))\n",
        "  print('False negative rate : %f %%' % ( (mt[1][0] / float(sum(mt[1]))*100)))"
      ],
      "metadata": {
        "colab": {
          "base_uri": "https://localhost:8080/"
        },
        "id": "ryzIGvwz-_GW",
        "outputId": "ee047f0a-dc40-4bf3-9da7-7e0f18b1b4c2"
      },
      "execution_count": 136,
      "outputs": [
        {
          "output_type": "stream",
          "name": "stdout",
          "text": [
            "Gaussian Naive Bayes\n",
            "False positive rate : 0.068666 %\n",
            "False negative rate : 0.000000 %\n",
            "Logistic Regression\n",
            "False positive rate : 0.549325 %\n",
            "False negative rate : 0.049733 %\n",
            "Support Vector Machines\n",
            "False positive rate : 1.304646 %\n",
            "False negative rate : 0.886900 %\n"
          ]
        }
      ]
    },
    {
      "cell_type": "code",
      "source": [
        "import mmh3\n",
        "from random import sample\n",
        "\n",
        "\n",
        "class stable_bloom_filter(object):\n",
        "    \n",
        "    def __init__(self,m,Mx,K):\n",
        "        '''\n",
        "        m: Number of Cells in the bloom filter\n",
        "        Mx: Maximum value a cell can hold\n",
        "        K: Number of Hash Functions\n",
        "        \n",
        "        Initialises a stable bloom filter\n",
        "        ''' \n",
        "        self.m=m\n",
        "        self.Mx=Mx\n",
        "        self.K=K\n",
        "        \n",
        "        #calculating other parameters.\n",
        "        self.P=256\n",
        "        self.filter=[0]*self.m\n",
        "        \n",
        "    def is_duplicate(self,item):\n",
        "        '''\n",
        "        item: input item\n",
        "        \n",
        "        returns if the input item is already contained within the filter\n",
        "        '''\n",
        "        flag=True\n",
        "        hashes=self.get_hashes(item)\n",
        "        for i in range(self.K):\n",
        "            if(self.filter[hashes[i]]==0):\n",
        "                flag=False\n",
        "\n",
        "        self.remove_random_elements()\n",
        "        self.add_element(hashes)\n",
        "        return flag\n",
        "    \n",
        "    def add_element(self,hashes):\n",
        "        '''\n",
        "        hashes: keys by K hash functions\n",
        "        Adds an element to the filter by setting all the hash cells to max\n",
        "        '''\n",
        "        for i in range(self.K):\n",
        "            self.filter[hashes[i]]=self.Mx\n",
        "        \n",
        "    \n",
        "    def remove_random_elements(self):\n",
        "        '''\n",
        "        Decrement random P cells by 1.\n",
        "        '''\n",
        "        cell_ind=[i for i in range(self.m)]\n",
        "        rem_ind=sample(cell_ind,self.P)\n",
        "        for i in rem_ind:\n",
        "            self.filter[i]=max(0,self.filter[i]-1)\n",
        "    \n",
        "    def get_hashes(self,item):\n",
        "        '''\n",
        "        item: input item\n",
        "        \n",
        "        returns K hashes derived from k independent hash functions\n",
        "        '''\n",
        "        hashes = []\n",
        "        \n",
        "        for i in range(self.K):\n",
        "            hash_val = mmh3.hash(item, i) % self.m\n",
        "            hashes.append(hash_val)\n",
        "        \n",
        "        return hashes"
      ],
      "metadata": {
        "id": "82O_y0ncttkg"
      },
      "execution_count": 137,
      "outputs": []
    },
    {
      "cell_type": "code",
      "source": [
        "y_train"
      ],
      "metadata": {
        "colab": {
          "base_uri": "https://localhost:8080/"
        },
        "id": "kvicNlQn6cqT",
        "outputId": "61aacbec-ee49-4ea6-c4d3-1d278635801b"
      },
      "execution_count": 138,
      "outputs": [
        {
          "output_type": "execute_result",
          "data": {
            "text/plain": [
              "array([1., 1., 1., ..., 1., 1., 1.])"
            ]
          },
          "metadata": {},
          "execution_count": 138
        }
      ]
    },
    {
      "cell_type": "code",
      "source": [
        ""
      ],
      "metadata": {
        "id": "pFxW3JrbxOcO"
      },
      "execution_count": 138,
      "outputs": []
    },
    {
      "cell_type": "markdown",
      "source": [
        "## FNR RATE - Malicious"
      ],
      "metadata": {
        "id": "448DVC-IxQBK"
      }
    },
    {
      "cell_type": "code",
      "source": [
        "malicious_ind_train=np.where(y_train==1.0)\n",
        "insrt_train=x_train_url_strs[malicious_ind_train]\n",
        "y_train_workload = y_train[malicious_ind_train]\n",
        "x_train_workload = x_train[malicious_ind_train]\n",
        "malicious_ind_test=np.where(y_test==1.0)\n",
        "insrt_test=x_test_url_strs[malicious_ind_test]\n",
        "y_test_workload = y_test[malicious_ind_test]\n",
        "x_test_workload = x_test[malicious_ind_test]\n",
        "len(insrt_train), len(insrt_test)"
      ],
      "metadata": {
        "colab": {
          "base_uri": "https://localhost:8080/"
        },
        "id": "KU9koVq4yLPr",
        "outputId": "55b19547-e359-4108-8601-7af6f98fff7e"
      },
      "execution_count": 139,
      "outputs": [
        {
          "output_type": "execute_result",
          "data": {
            "text/plain": [
              "(1266, 24129)"
            ]
          },
          "metadata": {},
          "execution_count": 139
        }
      ]
    },
    {
      "cell_type": "code",
      "source": [
        "fn_rates_models = []\n",
        "for algo in models:\n",
        "  fn=0\n",
        "  fn_rate=[]\n",
        "  sbf=stable_bloom_filter(1024, 5, 1)\n",
        "  for el in insrt_train:\n",
        "    sbf.is_duplicate(el)\n",
        "  for ind in range(len(x_test_workload)):\n",
        "    clf = models[algo]\n",
        "    res = clf.predict(x_test_workload[ind].reshape(1,6))\n",
        "    \n",
        "    if res==1:\n",
        "      res2=True\n",
        "    else:\n",
        "      res2=sbf.is_duplicate(x_test_url_strs[ind])\n",
        "\n",
        "    if (not res2 and y_test_workload[ind]==1.0):\n",
        "      fn+=1\n",
        "    # print(fn)\n",
        "    fn_rate.append(fn/(ind+1))\n",
        "  fn_rates_models.append(fn_rate)"
      ],
      "metadata": {
        "id": "RP5VQNYD5w6q"
      },
      "execution_count": 140,
      "outputs": []
    },
    {
      "cell_type": "code",
      "source": [
        "import matplotlib.pyplot as plt\n",
        "plt.figure(figsize=(10,5))\n",
        "plt.title(\"FNR Rate for a Synthetic WorkLoad [Malicious URLS] across Various Classifiers\")\n",
        "plt.plot(fn_rates_models[0])\n",
        "plt.plot(fn_rates_models[1])\n",
        "plt.plot(fn_rates_models[2])\n",
        "\n",
        "plt.legend(models.keys())\n",
        "plt.xlabel(\"Insertions\")\n",
        "plt.ylabel(\"FNR Rate\")\n",
        "plt.show()  "
      ],
      "metadata": {
        "colab": {
          "base_uri": "https://localhost:8080/",
          "height": 350
        },
        "id": "cMjk4-wI-KpA",
        "outputId": "29a2d1d1-c996-40dc-a90a-4d63d0c210db"
      },
      "execution_count": 141,
      "outputs": [
        {
          "output_type": "display_data",
          "data": {
            "text/plain": [
              "<Figure size 720x360 with 1 Axes>"
            ],
            "image/png": "[encoded data removed]"
          },
          "metadata": {
            "needs_background": "light"
          }
        }
      ]
    },
    {
      "cell_type": "markdown",
      "source": [
        "## **FPR** RATE - Malicious"
      ],
      "metadata": {
        "id": "6O_rxaTGyMpT"
      }
    },
    {
      "cell_type": "code",
      "source": [
        "malicious_ind_train=np.where(y_train==0.0)\n",
        "insrt_train=x_train_url_strs[malicious_ind_train]\n",
        "y_train_workload = y_train[malicious_ind_train]\n",
        "x_train_workload = x_train[malicious_ind_train]\n",
        "malicious_ind_test=np.where(y_test==0.0)\n",
        "insrt_test=x_test_url_strs[malicious_ind_test]\n",
        "y_test_workload = y_test[malicious_ind_test]\n",
        "x_test_workload = x_test[malicious_ind_test]\n",
        "len(insrt_train), len(insrt_test)"
      ],
      "metadata": {
        "colab": {
          "base_uri": "https://localhost:8080/"
        },
        "outputId": "ddf69660-8898-4456-f67f-e71c9802b753",
        "id": "5eGQmGgqyMpT"
      },
      "execution_count": 142,
      "outputs": [
        {
          "output_type": "execute_result",
          "data": {
            "text/plain": [
              "(233, 4369)"
            ]
          },
          "metadata": {},
          "execution_count": 142
        }
      ]
    },
    {
      "cell_type": "code",
      "source": [
        "fn_rates_models = []\n",
        "for algo in models:\n",
        "  fn=0\n",
        "  fn_rate=[]\n",
        "  sbf=stable_bloom_filter(1024, 5, 1)\n",
        "  for el in insrt_train:\n",
        "    sbf.is_duplicate(el)\n",
        "  for ind in range(len(x_test_workload)):\n",
        "    clf = models[algo]\n",
        "    res = clf.predict(x_test_workload[ind].reshape(1,6))\n",
        "    \n",
        "    if res==1:\n",
        "      res2=True\n",
        "    else:\n",
        "      res2=sbf.is_duplicate(x_test_url_strs[ind])\n",
        "\n",
        "    if (res2 and y_test_workload[ind]==0.0):\n",
        "      fn+=1\n",
        "    # print(fn)\n",
        "    fn_rate.append(fn/(ind+1))\n",
        "  fn_rates_models.append(fn_rate)"
      ],
      "metadata": {
        "id": "RWEFH8nEyMpU"
      },
      "execution_count": 143,
      "outputs": []
    },
    {
      "cell_type": "code",
      "source": [
        "import matplotlib.pyplot as plt\n",
        "plt.figure(figsize=(10,5))\n",
        "plt.title(\"FPR Rate for a Synthetic WorkLoad [Legitimate URLS] across Various Classifiers\")\n",
        "plt.plot(fn_rates_models[0])\n",
        "plt.plot(fn_rates_models[1])\n",
        "plt.plot(fn_rates_models[2])\n",
        "plt.legend(models.keys())\n",
        "plt.xlabel(\"Insertions\")\n",
        "plt.ylabel(\"FPR Rate\")\n",
        "plt.show()  "
      ],
      "metadata": {
        "colab": {
          "base_uri": "https://localhost:8080/",
          "height": 350
        },
        "outputId": "0d50f7f7-0932-4930-ee13-be86dc73560a",
        "id": "c12GEe57yMpU"
      },
      "execution_count": 144,
      "outputs": [
        {
          "output_type": "display_data",
          "data": {
            "text/plain": [
              "<Figure size 720x360 with 1 Axes>"
            ],
            "image/png": "[encoded data removed]"
          },
          "metadata": {
            "needs_background": "light"
          }
        }
      ]
    },
    {
      "cell_type": "code",
      "source": [
        ""
      ],
      "metadata": {
        "id": "oFolsbWlyj0L"
      },
      "execution_count": 144,
      "outputs": []
    }
  ]
}