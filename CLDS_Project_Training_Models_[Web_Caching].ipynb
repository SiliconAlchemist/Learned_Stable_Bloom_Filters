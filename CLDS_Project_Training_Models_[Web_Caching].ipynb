{
  "nbformat": 4,
  "nbformat_minor": 0,
  "metadata": {
    "colab": {
      "name": "CLDS Project - Training Models [Web Caching].ipynb",
      "provenance": [],
      "collapsed_sections": [],
      "include_colab_link": true
    },
    "kernelspec": {
      "name": "python3",
      "display_name": "Python 3"
    },
    "language_info": {
      "name": "python"
    }
  },
  "cells": [
    {
      "cell_type": "markdown",
      "metadata": {
        "id": "view-in-github",
        "colab_type": "text"
      },
      "source": [
        "<a href=\"https://colab.research.google.com/github/SiliconAlchemist/Learned_Stable_Bloom_Filters/blob/main/CLDS_Project_Training_Models_%5BWeb_Caching%5D.ipynb\" target=\"_parent\"><img src=\"https://colab.research.google.com/assets/colab-badge.svg\" alt=\"Open In Colab\"/></a>"
      ]
    },
    {
      "cell_type": "code",
      "source": [
        "!pip install tldextract\n",
        "!pip install mmh3"
      ],
      "metadata": {
        "colab": {
          "base_uri": "https://localhost:8080/"
        },
        "id": "_n3PPKvZtA5g",
        "outputId": "5c4e3950-d441-453c-b698-c96de504a124"
      },
      "execution_count": 1,
      "outputs": [
        {
          "output_type": "stream",
          "name": "stdout",
          "text": [
            "Requirement already satisfied: tldextract in /usr/local/lib/python3.7/dist-packages (3.2.1)\n",
            "Requirement already satisfied: filelock>=3.0.8 in /usr/local/lib/python3.7/dist-packages (from tldextract) (3.6.0)\n",
            "Requirement already satisfied: idna in /usr/local/lib/python3.7/dist-packages (from tldextract) (2.10)\n",
            "Requirement already satisfied: requests>=2.1.0 in /usr/local/lib/python3.7/dist-packages (from tldextract) (2.23.0)\n",
            "Requirement already satisfied: requests-file>=1.4 in /usr/local/lib/python3.7/dist-packages (from tldextract) (1.5.1)\n",
            "Requirement already satisfied: chardet<4,>=3.0.2 in /usr/local/lib/python3.7/dist-packages (from requests>=2.1.0->tldextract) (3.0.4)\n",
            "Requirement already satisfied: certifi>=2017.4.17 in /usr/local/lib/python3.7/dist-packages (from requests>=2.1.0->tldextract) (2021.10.8)\n",
            "Requirement already satisfied: urllib3!=1.25.0,!=1.25.1,<1.26,>=1.21.1 in /usr/local/lib/python3.7/dist-packages (from requests>=2.1.0->tldextract) (1.24.3)\n",
            "Requirement already satisfied: six in /usr/local/lib/python3.7/dist-packages (from requests-file>=1.4->tldextract) (1.15.0)\n",
            "Requirement already satisfied: mmh3 in /usr/local/lib/python3.7/dist-packages (3.0.0)\n"
          ]
        }
      ]
    },
    {
      "cell_type": "code",
      "execution_count": 2,
      "metadata": {
        "id": "k92dRjYY593Z"
      },
      "outputs": [],
      "source": [
        "import torch\n",
        "import torch.nn as nn\n",
        "import torch.nn.functional as F\n",
        "import numpy as np\n",
        "import os\n",
        "import time\n",
        "from collections import Counter\n",
        "import pandas as pd\n",
        "import matplotlib.pyplot as plt\n",
        "from urllib.parse import urlparse\n",
        "import tldextract\n",
        "from ipaddress import ip_address\n",
        "import seaborn as sns\n",
        "import random"
      ]
    },
    {
      "cell_type": "code",
      "source": [
        "from google.colab import drive\n",
        "drive.mount('/content/drive')"
      ],
      "metadata": {
        "colab": {
          "base_uri": "https://localhost:8080/"
        },
        "id": "sxU_GagR6TAL",
        "outputId": "404bb07f-7128-49b7-e8a3-6074e89ab880"
      },
      "execution_count": 3,
      "outputs": [
        {
          "output_type": "stream",
          "name": "stdout",
          "text": [
            "Drive already mounted at /content/drive; to attempt to forcibly remount, call drive.mount(\"/content/drive\", force_remount=True).\n"
          ]
        }
      ]
    },
    {
      "cell_type": "code",
      "source": [
        "# ! cd /content/drive/MyDrive/CLDS_Shortcut/CLDS/Dataset/URL && ls\n",
        "! cd /content/drive/MyDrive/Sem\\ 8/CLDS/Dataset/Web\\ Caching && ls"
      ],
      "metadata": {
        "colab": {
          "base_uri": "https://localhost:8080/"
        },
        "id": "Mn8v6qJu7wa8",
        "outputId": "4e3baeb4-6030-4069-acbf-c098bdf6a232"
      },
      "execution_count": 4,
      "outputs": [
        {
          "output_type": "stream",
          "name": "stdout",
          "text": [
            "cached_urls.txt\n"
          ]
        }
      ]
    },
    {
      "cell_type": "code",
      "source": [
        "root = \"/content/drive/MyDrive/Sem 8/CLDS/Dataset/Web Caching/\"\n",
        "file_name = \"cached_urls.txt\""
      ],
      "metadata": {
        "id": "aYN2ciBn8bE0"
      },
      "execution_count": 5,
      "outputs": []
    },
    {
      "cell_type": "code",
      "source": [
        "with open(root+file_name, encoding=\"ISO-8859-1\") as f:\n",
        "    urls = f.readlines()"
      ],
      "metadata": {
        "id": "wCaUuvO278Rz"
      },
      "execution_count": 6,
      "outputs": []
    },
    {
      "cell_type": "code",
      "source": [
        "cleaned_urls = [l.split('www.')[-1] for l in urls]\n",
        "cleaned_urls = cleaned_urls[:50000]"
      ],
      "metadata": {
        "id": "poAAvEF2_X7K"
      },
      "execution_count": 7,
      "outputs": []
    },
    {
      "cell_type": "code",
      "source": [
        "random.shuffle(cleaned_urls)\n",
        "\n",
        "cached_urls = cleaned_urls[:len(cleaned_urls)//4]\n",
        "non_cached_urls = cleaned_urls[len(cleaned_urls)//4:]\n",
        " \n",
        "len(cached_urls), len(non_cached_urls), len(cached_urls) + len(non_cached_urls), len(cleaned_urls)"
      ],
      "metadata": {
        "colab": {
          "base_uri": "https://localhost:8080/"
        },
        "id": "79QtAXcZHhO_",
        "outputId": "5b233790-1718-46dd-ca32-c76c6d0e6b0d"
      },
      "execution_count": 8,
      "outputs": [
        {
          "output_type": "execute_result",
          "data": {
            "text/plain": [
              "(12500, 37500, 50000, 50000)"
            ]
          },
          "metadata": {},
          "execution_count": 8
        }
      ]
    },
    {
      "cell_type": "markdown",
      "source": [
        "### Feature Selection\n",
        "1. Length of URL\n",
        "2. No. of Dots\n",
        "3. Presence of Hyphen\n",
        "4. Presence of Double Slashes\n",
        "5. Presence of @ Symbol\n",
        "6. Presence of IP Address"
      ],
      "metadata": {
        "id": "DIkR-ZvBmAFO"
      }
    },
    {
      "cell_type": "code",
      "source": [
        "length_url = []\n",
        "labels = []\n",
        "num_dots = []\n",
        "num_hyphen = []\n",
        "num_double_slashes = []\n",
        "num_at = []\n",
        "bool_ip_addr = []\n",
        "url_strs=[]\n",
        "\n",
        "def generate_features(url, label):\n",
        "  length_url.append(len(url))\n",
        "  num_dots.append(url.count('.'))\n",
        "  num_hyphen.append(url.count('-'))\n",
        "  num_double_slashes.append(url.count('//'))\n",
        "  num_at.append(url.count('@'))\n",
        "  url_strs.append(url)\n",
        "  \n",
        "  try:\n",
        "    tldextract.extract(url).domain\n",
        "    bool_ip_addr.append(1)\n",
        "  except:\n",
        "    bool_ip_addr.append(0)\n",
        "\n",
        "  labels.append(label)"
      ],
      "metadata": {
        "id": "z4bI8xJ3_2fU"
      },
      "execution_count": 9,
      "outputs": []
    },
    {
      "cell_type": "code",
      "source": [
        "for url in cached_urls:\n",
        "  generate_features(url, 1)\n",
        "\n",
        "for url in non_cached_urls:\n",
        "  generate_features(url, 0)"
      ],
      "metadata": {
        "id": "_REudq9Huh84"
      },
      "execution_count": 10,
      "outputs": []
    },
    {
      "cell_type": "code",
      "source": [
        "len(length_url), len(labels), len(num_dots), len(num_hyphen), len(num_double_slashes), len(num_at), len(bool_ip_addr), len(url_strs)"
      ],
      "metadata": {
        "colab": {
          "base_uri": "https://localhost:8080/"
        },
        "id": "P5ZEhMqX2DCN",
        "outputId": "f609073f-1a26-435d-aeb3-0db27ffdd019"
      },
      "execution_count": 11,
      "outputs": [
        {
          "output_type": "execute_result",
          "data": {
            "text/plain": [
              "(50000, 50000, 50000, 50000, 50000, 50000, 50000, 50000)"
            ]
          },
          "metadata": {},
          "execution_count": 11
        }
      ]
    },
    {
      "cell_type": "code",
      "source": [
        "final_data = np.array(np.vstack((url_strs,length_url, num_dots, num_hyphen, num_double_slashes, num_at, bool_ip_addr, labels))).T"
      ],
      "metadata": {
        "id": "CqxjOGNL6ol2"
      },
      "execution_count": 12,
      "outputs": []
    },
    {
      "cell_type": "code",
      "source": [
        "random.shuffle(final_data)"
      ],
      "metadata": {
        "id": "7WQRgJOW63f0"
      },
      "execution_count": 13,
      "outputs": []
    },
    {
      "cell_type": "code",
      "source": [
        "final_data[:,7]"
      ],
      "metadata": {
        "colab": {
          "base_uri": "https://localhost:8080/"
        },
        "id": "4qDcbdUe7reQ",
        "outputId": "1f607b81-18b3-49e4-f087-aa8d1e80da7b"
      },
      "execution_count": 14,
      "outputs": [
        {
          "output_type": "execute_result",
          "data": {
            "text/plain": [
              "array(['1', '1', '1', ..., '0', '0', '1'], dtype='<U2308')"
            ]
          },
          "metadata": {},
          "execution_count": 14
        }
      ]
    },
    {
      "cell_type": "code",
      "source": [
        "from sklearn.metrics import confusion_matrix\n",
        "from sklearn import svm\n",
        "from sklearn.naive_bayes import GaussianNB\n",
        "from sklearn.linear_model import LogisticRegression\n",
        "from sklearn.model_selection import train_test_split"
      ],
      "metadata": {
        "id": "oLbqOR6f8-hd"
      },
      "execution_count": 15,
      "outputs": []
    },
    {
      "cell_type": "code",
      "source": [
        "x_train_complete, x_test_complete, y_train, y_test = train_test_split(final_data[:,:7], final_data[:,7], test_size = 0.9, random_state = 42)"
      ],
      "metadata": {
        "id": "s3toVDC-9QnQ"
      },
      "execution_count": 16,
      "outputs": []
    },
    {
      "cell_type": "code",
      "source": [
        "x_train_complete[:,1:7]"
      ],
      "metadata": {
        "colab": {
          "base_uri": "https://localhost:8080/"
        },
        "id": "fKzsf0yf2ilD",
        "outputId": "4fc1a1a0-c410-49c4-8c04-e832d9ab65e2"
      },
      "execution_count": 17,
      "outputs": [
        {
          "output_type": "execute_result",
          "data": {
            "text/plain": [
              "array([['20', '1', '0', '0', '0', '1'],\n",
              "       ['75', '3', '5', '0', '0', '1'],\n",
              "       ['50', '2', '0', '0', '0', '1'],\n",
              "       ...,\n",
              "       ['46', '1', '0', '0', '0', '1'],\n",
              "       ['108', '6', '0', '0', '0', '1'],\n",
              "       ['125', '2', '1', '0', '0', '1']], dtype='<U2308')"
            ]
          },
          "metadata": {},
          "execution_count": 17
        }
      ]
    },
    {
      "cell_type": "code",
      "source": [
        "x_train_url_strs=x_train_complete[:,0]\n",
        "x_train=x_train_complete[:,1:7].astype('float')\n",
        "y_train=y_train.astype('float')\n",
        "x_test_url_strs=x_test_complete[:,0]\n",
        "x_test=x_test_complete[:,1:7].astype('float')\n",
        "y_test=y_test.astype('float')"
      ],
      "metadata": {
        "id": "RksC2rF32IxL"
      },
      "execution_count": 18,
      "outputs": []
    },
    {
      "cell_type": "code",
      "source": [
        "np.unique(y_train,return_counts=True), np.unique(y_test,return_counts=True)"
      ],
      "metadata": {
        "colab": {
          "base_uri": "https://localhost:8080/"
        },
        "id": "7q1D2N4R_4JH",
        "outputId": "d391f6a5-9e5b-4518-bb96-8fbb1179f3c4"
      },
      "execution_count": 19,
      "outputs": [
        {
          "output_type": "execute_result",
          "data": {
            "text/plain": [
              "((array([0., 1.]), array([1997, 3003])),\n",
              " (array([0., 1.]), array([18130, 26870])))"
            ]
          },
          "metadata": {},
          "execution_count": 19
        }
      ]
    },
    {
      "cell_type": "code",
      "source": [
        "len(x_train), len(x_test), len(y_train), len(y_test)"
      ],
      "metadata": {
        "colab": {
          "base_uri": "https://localhost:8080/"
        },
        "id": "oDNlwv-7-DwB",
        "outputId": "4dea3bf2-431a-4a90-c22c-55add09345b2"
      },
      "execution_count": 20,
      "outputs": [
        {
          "output_type": "execute_result",
          "data": {
            "text/plain": [
              "(5000, 45000, 5000, 45000)"
            ]
          },
          "metadata": {},
          "execution_count": 20
        }
      ]
    },
    {
      "cell_type": "code",
      "source": [
        "models = { \"Gaussian Naive Bayes\":GaussianNB(),\n",
        "         \"Logistic Regression\":LogisticRegression(),\n",
        "          \"Support Vector Machines\": svm.SVC()   \n",
        "}"
      ],
      "metadata": {
        "id": "zenx7zrf-QB-"
      },
      "execution_count": 21,
      "outputs": []
    },
    {
      "cell_type": "code",
      "source": [
        "results = {}\n",
        "for algo in models:\n",
        "    clf = models[algo]\n",
        "    clf.fit(x_train,y_train)\n",
        "    score = clf.score(x_test,y_test)\n",
        "    print (\"%s : %s \" %(algo, score))\n",
        "    results[algo] = score"
      ],
      "metadata": {
        "colab": {
          "base_uri": "https://localhost:8080/"
        },
        "id": "sOy7SZ8Z-32n",
        "outputId": "7ef3dc2d-6dd1-432d-cffc-7f362ce11d46"
      },
      "execution_count": 22,
      "outputs": [
        {
          "output_type": "stream",
          "name": "stdout",
          "text": [
            "Gaussian Naive Bayes : 0.4792 \n",
            "Logistic Regression : 0.5962666666666666 \n",
            "Support Vector Machines : 0.5970888888888889 \n"
          ]
        }
      ]
    },
    {
      "cell_type": "code",
      "source": [
        "results = {}\n",
        "for algo in models:\n",
        "  clf = models[algo]\n",
        "  res = clf.predict(x_test)\n",
        "  mt = confusion_matrix(y_test, res)\n",
        "  print(algo)\n",
        "  print(\"False positive rate : %f %%\" % ((mt[0][1] / float(sum(mt[0])))*100))\n",
        "  print('False negative rate : %f %%' % ( (mt[1][0] / float(sum(mt[1]))*100)))"
      ],
      "metadata": {
        "colab": {
          "base_uri": "https://localhost:8080/"
        },
        "id": "ryzIGvwz-_GW",
        "outputId": "cc1a459e-ff99-4692-e28f-71e7a320b6f9"
      },
      "execution_count": 23,
      "outputs": [
        {
          "output_type": "stream",
          "name": "stdout",
          "text": [
            "Gaussian Naive Bayes\n",
            "False positive rate : 38.058467 %\n",
            "False negative rate : 61.540752 %\n",
            "Logistic Regression\n",
            "False positive rate : 99.834528 %\n",
            "False negative rate : 0.253070 %\n",
            "Support Vector Machines\n",
            "False positive rate : 100.000000 %\n",
            "False negative rate : 0.003722 %\n"
          ]
        }
      ]
    },
    {
      "cell_type": "code",
      "source": [
        "import mmh3\n",
        "from random import sample\n",
        "\n",
        "\n",
        "class stable_bloom_filter(object):\n",
        "    \n",
        "    def __init__(self,m,Mx,K):\n",
        "        '''\n",
        "        m: Number of Cells in the bloom filter\n",
        "        Mx: Maximum value a cell can hold\n",
        "        K: Number of Hash Functions\n",
        "        \n",
        "        Initialises a stable bloom filter\n",
        "        ''' \n",
        "        self.m=m\n",
        "        self.Mx=Mx\n",
        "        self.K=K\n",
        "        \n",
        "        #calculating other parameters.\n",
        "        self.P=256\n",
        "        self.filter=[0]*self.m\n",
        "        \n",
        "    def is_duplicate(self,item):\n",
        "        '''\n",
        "        item: input item\n",
        "        \n",
        "        returns if the input item is already contained within the filter\n",
        "        '''\n",
        "        flag=True\n",
        "        hashes=self.get_hashes(item)\n",
        "        for i in range(self.K):\n",
        "            if(self.filter[hashes[i]]==0):\n",
        "                flag=False\n",
        "\n",
        "        self.remove_random_elements()\n",
        "        self.add_element(hashes)\n",
        "        return flag\n",
        "    \n",
        "    def add_element(self,hashes):\n",
        "        '''\n",
        "        hashes: keys by K hash functions\n",
        "        Adds an element to the filter by setting all the hash cells to max\n",
        "        '''\n",
        "        for i in range(self.K):\n",
        "            self.filter[hashes[i]]=self.Mx\n",
        "        \n",
        "    \n",
        "    def remove_random_elements(self):\n",
        "        '''\n",
        "        Decrement random P cells by 1.\n",
        "        '''\n",
        "        cell_ind=[i for i in range(self.m)]\n",
        "        rem_ind=sample(cell_ind,self.P)\n",
        "        for i in rem_ind:\n",
        "            self.filter[i]=max(0,self.filter[i]-1)\n",
        "    \n",
        "    def get_hashes(self,item):\n",
        "        '''\n",
        "        item: input item\n",
        "        \n",
        "        returns K hashes derived from k independent hash functions\n",
        "        '''\n",
        "        hashes = []\n",
        "        \n",
        "        for i in range(self.K):\n",
        "            hash_val = mmh3.hash(item, i) % self.m\n",
        "            hashes.append(hash_val)\n",
        "        \n",
        "        return hashes"
      ],
      "metadata": {
        "id": "82O_y0ncttkg"
      },
      "execution_count": 24,
      "outputs": []
    },
    {
      "cell_type": "code",
      "source": [
        "y_train"
      ],
      "metadata": {
        "colab": {
          "base_uri": "https://localhost:8080/"
        },
        "id": "kvicNlQn6cqT",
        "outputId": "f6061243-827f-4de4-9db3-b14ea09b9cc7"
      },
      "execution_count": 25,
      "outputs": [
        {
          "output_type": "execute_result",
          "data": {
            "text/plain": [
              "array([1., 0., 1., ..., 1., 1., 1.])"
            ]
          },
          "metadata": {},
          "execution_count": 25
        }
      ]
    },
    {
      "cell_type": "markdown",
      "source": [
        "## FNR and FPR Rate"
      ],
      "metadata": {
        "id": "448DVC-IxQBK"
      }
    },
    {
      "cell_type": "code",
      "source": [
        "len(y_test),len(x_test)\n",
        "cached_dic = {}\n",
        "for i in range(len(x_train)):\n",
        "  if y_train[i] == 1:\n",
        "    cached_dic[final_data[i,0]] = 1"
      ],
      "metadata": {
        "id": "KU9koVq4yLPr"
      },
      "execution_count": 26,
      "outputs": []
    },
    {
      "cell_type": "code",
      "source": [
        "len(cached_dic)"
      ],
      "metadata": {
        "colab": {
          "base_uri": "https://localhost:8080/"
        },
        "id": "wpQ9bH2HRGj2",
        "outputId": "7a927af3-deb1-4ff6-d5ee-bd11b92e560e"
      },
      "execution_count": 27,
      "outputs": [
        {
          "output_type": "execute_result",
          "data": {
            "text/plain": [
              "1885"
            ]
          },
          "metadata": {},
          "execution_count": 27
        }
      ]
    },
    {
      "cell_type": "code",
      "source": [
        "fp_rates_models = []\n",
        "fn_rates_models = []\n",
        "for algo in models:\n",
        "  fp = 0\n",
        "  fn = 0\n",
        "  fp_rate = []\n",
        "  fn_rate = []\n",
        "  sbf=stable_bloom_filter(1024, 5, 1)\n",
        "  for el in cached_dic.keys():\n",
        "    sbf.is_duplicate(el)\n",
        "  for ind in range(len(x_test)):\n",
        "    clf = models[algo]\n",
        "    res = clf.predict(x_test[ind].reshape(1,6))\n",
        "    \n",
        "    if res == 1:\n",
        "      res2 = True\n",
        "    else:\n",
        "      res2 = sbf.is_duplicate(x_test_url_strs[ind])\n",
        "\n",
        "    \n",
        "    if res2 == True and y_test[ind] == 0.0:\n",
        "      fp += 1\n",
        "     \n",
        "    if res2 == False and y_test[ind] == 1.0:\n",
        "      fn += 1 \n",
        "\n",
        "    fn_rate.append(fn/(ind+1))\n",
        "    fp_rate.append(fp/(ind+1))\n",
        "  fn_rates_models.append(fn_rate)\n",
        "  fp_rates_models.append(fp_rate)"
      ],
      "metadata": {
        "id": "RP5VQNYD5w6q"
      },
      "execution_count": 28,
      "outputs": []
    },
    {
      "cell_type": "code",
      "source": [
        "import matplotlib.pyplot as plt\n",
        "plt.figure(figsize=(10,5))\n",
        "plt.title(\"FNR Rate for a Real Data Workload across Various Classifiers\")\n",
        "plt.plot(fn_rates_models[0])\n",
        "plt.plot(fn_rates_models[1])\n",
        "plt.plot(fn_rates_models[2])\n",
        "\n",
        "plt.legend(models.keys())\n",
        "plt.xlabel(\"Insertions\")\n",
        "plt.ylabel(\"FNR Rate\")\n",
        "plt.show()  "
      ],
      "metadata": {
        "colab": {
          "base_uri": "https://localhost:8080/",
          "height": 350
        },
        "id": "cMjk4-wI-KpA",
        "outputId": "0460fa97-ce5d-416b-b1cf-8f4bcc0d1999"
      },
      "execution_count": 29,
      "outputs": [
        {
          "output_type": "display_data",
          "data": {
            "text/plain": [
              "<Figure size 720x360 with 1 Axes>"
            ],
            "image/png": "[encoded data removed]"
          },
          "metadata": {
            "needs_background": "light"
          }
        }
      ]
    },
    {
      "cell_type": "code",
      "source": [
        "import matplotlib.pyplot as plt\n",
        "plt.figure(figsize=(10,5))\n",
        "plt.title(\"FPR Rate for a Real Data Workload across Various Classifiers\")\n",
        "plt.plot(fp_rates_models[0])\n",
        "plt.plot(fp_rates_models[1])\n",
        "plt.plot(fp_rates_models[2])\n",
        "plt.legend(models.keys())\n",
        "plt.xlabel(\"Insertions\")\n",
        "plt.ylabel(\"FPR Rate\")\n",
        "plt.show()  "
      ],
      "metadata": {
        "colab": {
          "base_uri": "https://localhost:8080/",
          "height": 350
        },
        "outputId": "8d3686c6-30ee-43be-a8c5-482bb976e963",
        "id": "c12GEe57yMpU"
      },
      "execution_count": 30,
      "outputs": [
        {
          "output_type": "display_data",
          "data": {
            "text/plain": [
              "<Figure size 720x360 with 1 Axes>"
            ],
            "image/png": "[encoded data removed]"
          },
          "metadata": {
            "needs_background": "light"
          }
        }
      ]
    },
    {
      "cell_type": "code",
      "source": [
        ""
      ],
      "metadata": {
        "id": "oFolsbWlyj0L"
      },
      "execution_count": 30,
      "outputs": []
    }
  ]
}